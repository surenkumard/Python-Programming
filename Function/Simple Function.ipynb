{
 "cells": [
  {
   "cell_type": "markdown",
   "metadata": {},
   "source": [
    "1. Write a function to print your name and department"
   ]
  },
  {
   "cell_type": "code",
   "execution_count": 2,
   "metadata": {},
   "outputs": [
    {
     "name": "stdin",
     "output_type": "stream",
     "text": [
      "Enter a Name :  suren kumar\n",
      "Enter a department :  IT\n"
     ]
    },
    {
     "name": "stdout",
     "output_type": "stream",
     "text": [
      "NAME = suren kumar\n",
      "DEPARTMENT = IT\n"
     ]
    }
   ],
   "source": [
    "def user_data (Name,Dept):\n",
    "    print(\"NAME =\",Name)\n",
    "    print(\"DEPARTMENT =\",Dept)\n",
    "Name = input(\"Enter a Name : \")\n",
    "Dept = input(\"Enter a department : \")\n",
    "user_data(Name , Dept)"
   ]
  },
  {
   "cell_type": "markdown",
   "metadata": {},
   "source": [
    "2.Write a function to print your name and department repeatedly n times"
   ]
  },
  {
   "cell_type": "code",
   "execution_count": 5,
   "metadata": {},
   "outputs": [
    {
     "name": "stdin",
     "output_type": "stream",
     "text": [
      "Enter a Name :  suren kumar\n",
      "Enter a department IT\n"
     ]
    },
    {
     "name": "stdout",
     "output_type": "stream",
     "text": [
      "NAME = suren kumar\n",
      "DEPARTMENT = IT\n",
      " \n",
      "NAME = suren kumar\n",
      "DEPARTMENT = IT\n",
      " \n",
      "NAME = suren kumar\n",
      "DEPARTMENT = IT\n",
      " \n",
      "NAME = suren kumar\n",
      "DEPARTMENT = IT\n",
      " \n",
      "NAME = suren kumar\n",
      "DEPARTMENT = IT\n",
      " \n"
     ]
    }
   ],
   "source": [
    "def user_data_n (Name,Dept,n):\n",
    "    for i in range(n):\n",
    "        print(\"NAME =\",Name)\n",
    "        print(\"DEPARTMENT =\",Dept)\n",
    "        print(\" \")\n",
    "Name = input(\"Enter a Name : \")\n",
    "Dept = input(\"Enter a department\")\n",
    "user_data_n(Name , Dept , 5)"
   ]
  },
  {
   "cell_type": "markdown",
   "metadata": {},
   "source": [
    "3.Write a function to calculate the simple interest. Suppose the customer is a senior citizen he is offered 12% rate of interest and for all others 10% annually."
   ]
  },
  {
   "cell_type": "code",
   "execution_count": 6,
   "metadata": {},
   "outputs": [
    {
     "name": "stdin",
     "output_type": "stream",
     "text": [
      "Enter an age :  66\n",
      "Enter a number of amount :  30000\n",
      "Enter a number of year :  5\n"
     ]
    },
    {
     "name": "stdout",
     "output_type": "stream",
     "text": [
      "The Simple Interest is = 18000.0\n"
     ]
    }
   ],
   "source": [
    "def simple_interest(age):   # senior citizen age above 60\n",
    "    if age >= 60:           # other citizen age below 60\n",
    "        return 'true'       #true means senior citizen and false means other citizen\n",
    "    else:\n",
    "        return 'false'\n",
    "age = int(input(\"Enter an age : \"))\n",
    "r = simple_interest(age)\n",
    "p = int(input(\"Enter a number of amount : \"))\n",
    "n = int(input(\"Enter a number of year : \"))\n",
    "if r == 'true':\n",
    "    print (\"The Simple Interest is =\",(p*n*12)/100)     # 12% of rate for senior citizen\n",
    "else:\n",
    "    print(\"The Simple Interest is =\",(p*n*10)/100)      # 10% of rate for other citizen"
   ]
  },
  {
   "cell_type": "markdown",
   "metadata": {},
   "source": [
    "4.Write a function that will convert a Total mark into a grade with rule as mark being >90 is 'O', 89 - 80 is A, 79-70 is B, 69-60 is C, 59-50 is D and <50 is RA."
   ]
  },
  {
   "cell_type": "code",
   "execution_count": 7,
   "metadata": {},
   "outputs": [
    {
     "name": "stdin",
     "output_type": "stream",
     "text": [
      "Enter a Total Mark :  86\n"
     ]
    },
    {
     "name": "stdout",
     "output_type": "stream",
     "text": [
      "A\n"
     ]
    }
   ],
   "source": [
    "def find_grade(mark):\n",
    "    if mark >= 90 and mark < 100:\n",
    "        grade = 'O'\n",
    "    elif mark >= 80 and mark < 90 :\n",
    "        grade = 'A'\n",
    "    elif mark >= 70 and mark < 80:\n",
    "        grade = 'B'\n",
    "    elif mark >=60 and mark < 70:\n",
    "        grade = 'C'\n",
    "    elif mark >= 50 and mark < 60:\n",
    "        grade = 'D'\n",
    "    elif mark >= 0 and mark < 50:\n",
    "        grade = 'RA'\n",
    "    else:\n",
    "        grade = 'check a mark '\n",
    "    return grade\n",
    "mark = int(input(\"Enter a Total Mark : \"))\n",
    "print(find_grade(mark))"
   ]
  },
  {
   "cell_type": "markdown",
   "metadata": {},
   "source": [
    "5.Write a function that will print the factors greater than 1 for the given number as argument"
   ]
  },
  {
   "cell_type": "code",
   "execution_count": 3,
   "metadata": {},
   "outputs": [
    {
     "name": "stdin",
     "output_type": "stream",
     "text": [
      "Enter a number :  12\n"
     ]
    },
    {
     "name": "stdout",
     "output_type": "stream",
     "text": [
      "1, 2, 6, 24, 120, 720, 5040, 40320, 362880, 3628800, 39916800, 479001600, "
     ]
    }
   ],
   "source": [
    "def generate_factorial (n):\n",
    "    fact = 1\n",
    "    for i in range (1, n+1):\n",
    "        fact = fact *i\n",
    "        print(fact, end = ', ')\n",
    "n = int (input(\"Enter a number : \"))\n",
    "generate_factorial(n)"
   ]
  },
  {
   "cell_type": "markdown",
   "metadata": {},
   "source": [
    "6.Write a function to calculate the GCD of given number."
   ]
  },
  {
   "cell_type": "code",
   "execution_count": 2,
   "metadata": {},
   "outputs": [
    {
     "name": "stdin",
     "output_type": "stream",
     "text": [
      "Enter a value a:  60\n",
      "Enter a value b:  280\n"
     ]
    },
    {
     "data": {
      "text/plain": [
       "20"
      ]
     },
     "execution_count": 2,
     "metadata": {},
     "output_type": "execute_result"
    }
   ],
   "source": [
    "def find_GCD(a, b):\n",
    "    if b == 0:\n",
    "        return a\n",
    "    return find_GCD(b,a%b)\n",
    "a = int(input(\"Enter a value a: \"))\n",
    "b = int(input(\"Enter a value b: \"))\n",
    "find_GCD(a, b)"
   ]
  },
  {
   "cell_type": "markdown",
   "metadata": {},
   "source": [
    "7. Write a function to calculate the LCM to given numbers."
   ]
  },
  {
   "cell_type": "code",
   "execution_count": 5,
   "metadata": {},
   "outputs": [
    {
     "name": "stdin",
     "output_type": "stream",
     "text": [
      "Enter a value a:  20\n",
      "Enter a value b:  15\n"
     ]
    },
    {
     "name": "stdout",
     "output_type": "stream",
     "text": [
      "60.0\n"
     ]
    }
   ],
   "source": [
    "def find_LCM(a, b):\n",
    "    s = a*b / find_GCD(a, b)\n",
    "    print(s)\n",
    "a = int(input(\"Enter a value a: \"))\n",
    "b = int(input(\"Enter a value b: \"))\n",
    "find_LCM(a, b)"
   ]
  },
  {
   "cell_type": "markdown",
   "metadata": {},
   "source": [
    "8.Write a function logic_gate(gate,a,b) which takes the gate, first truth value (a), second truth value (b) as input arguments and returns the result."
   ]
  },
  {
   "cell_type": "code",
   "execution_count": 10,
   "metadata": {},
   "outputs": [
    {
     "name": "stdin",
     "output_type": "stream",
     "text": [
      "Enter a logic gate :  ^\n"
     ]
    },
    {
     "name": "stdout",
     "output_type": "stream",
     "text": [
      "True\n"
     ]
    }
   ],
   "source": [
    "def logic_gate(gate, a=True,b=False):\n",
    "    if gate == 'and':\n",
    "        return a and b\n",
    "    elif gate == 'or':\n",
    "        return a or b\n",
    "    elif gate == '^':\n",
    "        return a ^ b\n",
    "    return \"invalid index \"\n",
    "gate = input(\"Enter a logic gate : \")\n",
    "print(logic_gate(gate))\n",
    "    "
   ]
  },
  {
   "cell_type": "markdown",
   "metadata": {},
   "source": [
    "9.Write a menu driven program using functions to perform calculator operations such as to Add, Sub, Multiply and Divide two integers."
   ]
  },
  {
   "cell_type": "code",
   "execution_count": 11,
   "metadata": {},
   "outputs": [
    {
     "name": "stdin",
     "output_type": "stream",
     "text": [
      "Enter a number :  8\n",
      "Enter a number :  14\n",
      "Enter a operator :  -\n"
     ]
    },
    {
     "name": "stdout",
     "output_type": "stream",
     "text": [
      "The subration of two number : -6\n",
      " \n"
     ]
    }
   ],
   "source": [
    "def math_operator(n1, operator, n2):\n",
    "    if operator =='+' or operator == 'sum':\n",
    "        print(\"The sum of two number :\",n1+n2)\n",
    "    elif operator =='-' or operator == 'sub':\n",
    "        print(\"The subration of two number :\" , n1-n2)\n",
    "    elif operator == '*' or operator == 'multiply':\n",
    "        print(\"The multiplication of two number :\", n1*n2)\n",
    "    elif operator == '/' or operator == 'divide':\n",
    "        print(\"The division of two number :\" , n1/n2)\n",
    "    else:\n",
    "        print(\"cheack a operator\")\n",
    "    return \" \"\n",
    "n1 = int(input(\"Enter a number : \"))\n",
    "n2 = int(input(\"Enter a number : \"))\n",
    "o = input (\"Enter a operator : \")\n",
    "value = math_operator(n1, o, n2)\n",
    "print(value)"
   ]
  },
  {
   "cell_type": "markdown",
   "metadata": {},
   "source": [
    "10.Write a function check_prime(n), which takes a number n as argument and returns True if n is prime and False otherwise"
   ]
  },
  {
   "cell_type": "code",
   "execution_count": 13,
   "metadata": {},
   "outputs": [
    {
     "name": "stdin",
     "output_type": "stream",
     "text": [
      "Enter a number :  97\n"
     ]
    },
    {
     "name": "stdout",
     "output_type": "stream",
     "text": [
      "97 is prime\n"
     ]
    }
   ],
   "source": [
    "def check_prime (n):\n",
    "    for i in range (2,n):\n",
    "        if n % i == 0 : \n",
    "            return True\n",
    "    return False\n",
    "n = int(input(\"Enter a number : \"))\n",
    "r = check_prime(n)\n",
    "if r == True:\n",
    "    print(n, \"is not prime\")\n",
    "else:\n",
    "    print(n, \"is prime\")"
   ]
  },
  {
   "cell_type": "markdown",
   "metadata": {},
   "source": [
    "11.Write a function find_factorial(n) which returns the factorial of a given n as input argument"
   ]
  },
  {
   "cell_type": "code",
   "execution_count": 14,
   "metadata": {},
   "outputs": [
    {
     "name": "stdin",
     "output_type": "stream",
     "text": [
      "Enter a number :  9\n"
     ]
    },
    {
     "name": "stdout",
     "output_type": "stream",
     "text": [
      "362880\n"
     ]
    }
   ],
   "source": [
    "def find_factorial(n):\n",
    "    fact = 1\n",
    "    for i in range(1, n+1):\n",
    "        fact = fact * i\n",
    "    return fact\n",
    "n = int(input(\"Enter a number : \"))\n",
    "print(find_factorial(n))"
   ]
  },
  {
   "cell_type": "markdown",
   "metadata": {},
   "source": [
    "12.Write a function check_palindrome(n),which takes a number n as argument and returns True if n is palindrome and False otherwise"
   ]
  },
  {
   "cell_type": "code",
   "execution_count": 15,
   "metadata": {},
   "outputs": [
    {
     "name": "stdin",
     "output_type": "stream",
     "text": [
      "Enter a number =  567898765\n"
     ]
    },
    {
     "name": "stdout",
     "output_type": "stream",
     "text": [
      "567898765 is palindrome\n"
     ]
    }
   ],
   "source": [
    "def check_palindrome(n):\n",
    "    t = n\n",
    "    s = 0\n",
    "    while n >0:\n",
    "        d = n % 10\n",
    "        n = n // 10\n",
    "        s = s * 10 + d\n",
    "    if s == t : return True\n",
    "    return False\n",
    "n = int(input(\"Enter a number = \"))\n",
    "r = check_palindrome (n)\n",
    "if r == True :\n",
    "    print (n, \"is palindrome\")\n",
    "else:\n",
    "    print (n, \" is not palindrome\")"
   ]
  },
  {
   "cell_type": "markdown",
   "metadata": {},
   "source": [
    "13.Write a function check_armstrong(n),which takes a number n as argument and returns True if n is armstrong (1**3+5**3+3**3=153)and False otherwise"
   ]
  },
  {
   "cell_type": "code",
   "execution_count": 23,
   "metadata": {},
   "outputs": [
    {
     "name": "stdin",
     "output_type": "stream",
     "text": [
      "Enter a number :  153\n"
     ]
    },
    {
     "name": "stdout",
     "output_type": "stream",
     "text": [
      "153 is armstrong number\n"
     ]
    }
   ],
   "source": [
    "def check_armstrong (n):\n",
    "    s = 0\n",
    "    t = n\n",
    "    while n > 0:\n",
    "        d = n % 10\n",
    "        n = n // 10\n",
    "        s = d ** order + s\n",
    "    if t == s:\n",
    "        return True\n",
    "    return False\n",
    "n = int(input(\"Enter a number : \"))\n",
    "a = str(n)\n",
    "order = len(a)\n",
    "r = check_armstrong(n)\n",
    "if r == True:\n",
    "    print(n, \"is armstrong number\")\n",
    "else:\n",
    "    print(n, \"is not armstrong number\")"
   ]
  },
  {
   "cell_type": "markdown",
   "metadata": {},
   "source": [
    "14.Write a function check_krishnamoorthy(n),which takes a number n as argument and returns True if n is Krishnamoorthy number (1! + 4! + 5! =    145) and False otherwise"
   ]
  },
  {
   "cell_type": "code",
   "execution_count": 17,
   "metadata": {},
   "outputs": [
    {
     "name": "stdin",
     "output_type": "stream",
     "text": [
      "Enter a number :  145\n"
     ]
    },
    {
     "name": "stdout",
     "output_type": "stream",
     "text": [
      "145 is krishnamoorthy number\n"
     ]
    }
   ],
   "source": [
    "def check_krishnamoorthy(n):\n",
    "    s = 0\n",
    "    t = n\n",
    "    while n > 0:\n",
    "        d = n % 10\n",
    "        n = n // 10\n",
    "        s = find_factorial(d) + s\n",
    "    if t == s:\n",
    "        return True\n",
    "    return False\n",
    "n = int(input(\"Enter a number : \"))\n",
    "r = check_krishnamoorthy(n)\n",
    "if r == True:\n",
    "    print(n,\"is krishnamoorthy number\")\n",
    "else:\n",
    "    print(n,\"is not krishnamoorthy number\")"
   ]
  },
  {
   "cell_type": "markdown",
   "metadata": {},
   "source": [
    "15.Write a function generate_prime(a,b),which takes the range a and b as argument and prints the number as said."
   ]
  },
  {
   "cell_type": "code",
   "execution_count": 19,
   "metadata": {},
   "outputs": [
    {
     "name": "stdin",
     "output_type": "stream",
     "text": [
      "Enter a stating number :  1\n",
      "Enter a ending number :  500\n"
     ]
    },
    {
     "name": "stdout",
     "output_type": "stream",
     "text": [
      "1, 2, 3, 5, 7, 11, 13, 17, 19, 23, 29, 31, 37, 41, 43, 47, 53, 59, 61, 67, 71, 73, 79, 83, 89, 97, 101, 103, 107, 109, 113, 127, 131, 137, 139, 149, 151, 157, 163, 167, 173, 179, 181, 191, 193, 197, 199, 211, 223, 227, 229, 233, 239, 241, 251, 257, 263, 269, 271, 277, 281, 283, 293, 307, 311, 313, 317, 331, 337, 347, 349, 353, 359, 367, 373, 379, 383, 389, 397, 401, 409, 419, 421, 431, 433, 439, 443, 449, 457, 461, 463, 467, 479, 487, 491, 499, "
     ]
    }
   ],
   "source": [
    "def generate_prime (a, b):\n",
    "    for i in range (a, b+1):\n",
    "        if check_prime(i):\n",
    "            print(end='')\n",
    "        else:\n",
    "            print(i, end = ', ')\n",
    "a = int(input(\"Enter a stating number : \"))\n",
    "b = int(input(\"Enter a ending number : \"))\n",
    "generate_prime(a, b)"
   ]
  },
  {
   "cell_type": "markdown",
   "metadata": {},
   "source": [
    "16.Write a function generate_armstrong(a,b),which takes the range a and b as argument and prints the number as said."
   ]
  },
  {
   "cell_type": "code",
   "execution_count": 26,
   "metadata": {},
   "outputs": [
    {
     "name": "stdin",
     "output_type": "stream",
     "text": [
      "Enter a starting number :  100\n",
      "Enter an ending number :  500\n"
     ]
    },
    {
     "name": "stdout",
     "output_type": "stream",
     "text": [
      "153 370 371 407 "
     ]
    }
   ],
   "source": [
    "def generate_armstrong(c, b):\n",
    "    for i in range (c, b+1):\n",
    "        if check_armstrong(i):\n",
    "            print(i, end = ' ')\n",
    "c = int(input(\"Enter a starting number : \"))\n",
    "b = int(input(\"Enter an ending number : \"))\n",
    "generate_armstrong(c, b)"
   ]
  },
  {
   "cell_type": "markdown",
   "metadata": {},
   "source": [
    "17.Write a function generate_krishnamoorthy(a,b),which takes the range a and b as argument and prints the number as said."
   ]
  },
  {
   "cell_type": "code",
   "execution_count": 33,
   "metadata": {},
   "outputs": [
    {
     "name": "stdin",
     "output_type": "stream",
     "text": [
      "Enter a starting number :  100\n",
      "Enter a ending number :  500\n"
     ]
    },
    {
     "name": "stdout",
     "output_type": "stream",
     "text": [
      "145 "
     ]
    }
   ],
   "source": [
    "def generate_krishnamoorthy(a, b):\n",
    "    for i in range(a, b+1):\n",
    "        if check_krishnamoorthy(i):\n",
    "            print(i, end = ' ')\n",
    "a = int(input(\"Enter a starting number : \"))\n",
    "b = int(input(\"Enter a ending number : \" ))\n",
    "generate_krishnamoorthy(a, b)"
   ]
  },
  {
   "cell_type": "markdown",
   "metadata": {},
   "source": [
    "18. Write a function to calculate how many days you have lived so far given date of birth and present date"
   ]
  },
  {
   "cell_type": "code",
   "execution_count": 47,
   "metadata": {},
   "outputs": [
    {
     "name": "stdin",
     "output_type": "stream",
     "text": [
      "Enter a birth year =  2005\n",
      "Enter a birth month =  7\n"
     ]
    },
    {
     "name": "stdout",
     "output_type": "stream",
     "text": [
      "6357\n"
     ]
    }
   ],
   "source": [
    "def leap(year):\n",
    "    if (year%400==0) or (year%100!=0 and year%4==0):\n",
    "        return True\n",
    "    return False\n",
    "\n",
    "def total_days(by=2005, bm=7, bd=27, cy=2022, cm=12, cd=23):\n",
    "    s= 0\n",
    "    for i in range(by+1, cy):\n",
    "        if leap(i):\n",
    "            s= s+366\n",
    "        else:\n",
    "            s=s+365\n",
    "    str = [1,3,5,7,8,10,12]\n",
    "    for i in range(bm+1, 13):\n",
    "        if i in str:\n",
    "            s = s+31\n",
    "        elif i == 2 and leap(i) == True:\n",
    "            s = s+29\n",
    "        elif i==2 and leap(i) == False:\n",
    "            s = s+28\n",
    "        elif i == 4 or i == 6 or i == 9 or i == 11:\n",
    "            s = s+30\n",
    "        else:\n",
    "            print(\"invalid index\")\n",
    "    for i in range (1 , cm):\n",
    "        if i in str:\n",
    "            s = s+31\n",
    "        elif i == 2 and leap(i) == True:\n",
    "            s = s+29\n",
    "        elif i==2 and leap(i) == False:\n",
    "            s = s+28\n",
    "        elif i == 4 or i == 6 or i == 9 or i == 11:\n",
    "            s = s+30\n",
    "        else:\n",
    "            print(\"invalid index\")\n",
    "    if leap(by)== True and bm == 2:\n",
    "        s = s+(29-bd)\n",
    "    elif bm == 2:\n",
    "        s = s+(28-bd)\n",
    "    elif bm == str:\n",
    "        s =s +(31-bd)\n",
    "    else:\n",
    "        s = s+(30-bd)\n",
    "    print(s+cd)\n",
    "e = int(input(\"Enter a birth year = \"))\n",
    "f = int(input(\"Enter a birth month = \"))\n",
    "total_days(e,f)"
   ]
  },
  {
   "cell_type": "markdown",
   "metadata": {},
   "source": [
    "19.Write a function to find the sum of series 1+x**2/2 + x**3/3+...+x**n/n given x andn as input arguments."
   ]
  },
  {
   "cell_type": "code",
   "execution_count": 48,
   "metadata": {},
   "outputs": [
    {
     "name": "stdin",
     "output_type": "stream",
     "text": [
      "Enter a value x:  6\n",
      "Enter a value n:  7\n"
     ]
    },
    {
     "data": {
      "text/plain": [
       "49737.05714285714"
      ]
     },
     "execution_count": 48,
     "metadata": {},
     "output_type": "execute_result"
    }
   ],
   "source": [
    "def sum_series(x, n):\n",
    "    s = 1\n",
    "    for i in range(2, n+1):\n",
    "        s = s + (x**i)/i\n",
    "    return s\n",
    "x = int(input(\"Enter a value x: \"))\n",
    "n = int(input(\"Enter a value n: \"))\n",
    "sum_series(x, n)"
   ]
  },
  {
   "cell_type": "markdown",
   "metadata": {},
   "source": [
    "20. Write a function to find the sum of series 1+x**2/2! + x**3/3!+...+x**n/n! given x andn as input arguments."
   ]
  },
  {
   "cell_type": "code",
   "execution_count": 49,
   "metadata": {},
   "outputs": [
    {
     "name": "stdin",
     "output_type": "stream",
     "text": [
      "Enter a value x:  6\n",
      "Enter a value n:  6\n"
     ]
    },
    {
     "data": {
      "text/plain": [
       "238.60000000000002"
      ]
     },
     "execution_count": 49,
     "metadata": {},
     "output_type": "execute_result"
    }
   ],
   "source": [
    "def fact_sum_series(x, n):\n",
    "    s = 1\n",
    "    for i in range(2, n+1):\n",
    "        s = s + (x**i) / find_factorial(i)\n",
    "    return s\n",
    "x = int(input(\"Enter a value x: \"))\n",
    "n = int(input(\"Enter a value n: \"))\n",
    "find_factorial(5)\n",
    "fact_sum_series(x, n)"
   ]
  },
  {
   "cell_type": "code",
   "execution_count": null,
   "metadata": {},
   "outputs": [],
   "source": []
  }
 ],
 "metadata": {
  "kernelspec": {
   "display_name": "Python 3",
   "language": "python",
   "name": "python3"
  },
  "language_info": {
   "codemirror_mode": {
    "name": "ipython",
    "version": 3
   },
   "file_extension": ".py",
   "mimetype": "text/x-python",
   "name": "python",
   "nbconvert_exporter": "python",
   "pygments_lexer": "ipython3",
   "version": "3.8.5"
  }
 },
 "nbformat": 4,
 "nbformat_minor": 4
}
