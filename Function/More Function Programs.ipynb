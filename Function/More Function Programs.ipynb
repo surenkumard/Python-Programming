{
 "cells": [
  {
   "cell_type": "markdown",
   "metadata": {},
   "source": [
    "1. Write a function greetings(name,dept,message) which takes in three parameters. Demonstrate positional arguments, default arguments, keyword arguments and special parameters using a test program."
   ]
  },
  {
   "cell_type": "code",
   "execution_count": 4,
   "metadata": {},
   "outputs": [
    {
     "name": "stdout",
     "output_type": "stream",
     "text": [
      "HELLO ! Suren Kumar IT\n",
      "Hi! suren kumar ECE\n"
     ]
    }
   ],
   "source": [
    "def user_data (name, dept = \"IT\",message = \"HELLO !\"):\n",
    "    print(message, name, dept)\n",
    "user_data('Suren Kumar')\n",
    "user_data('suren kumar',message = 'Hi!', dept = 'ECE')"
   ]
  },
  {
   "cell_type": "markdown",
   "metadata": {},
   "source": [
    "2. Write a function fact(n) to determine the factorial of given n using recursion."
   ]
  },
  {
   "cell_type": "code",
   "execution_count": 5,
   "metadata": {},
   "outputs": [
    {
     "name": "stdin",
     "output_type": "stream",
     "text": [
      "Enter a number =  5\n"
     ]
    },
    {
     "name": "stdout",
     "output_type": "stream",
     "text": [
      "120\n"
     ]
    }
   ],
   "source": [
    "def factorial(n):\n",
    "    if n <= 0:\n",
    "        return 1\n",
    "    else:\n",
    "        return n * factorial(n-1)\n",
    "n = int(input(\"Enter a number = \"))\n",
    "print(factorial(n))"
   ]
  },
  {
   "cell_type": "markdown",
   "metadata": {},
   "source": [
    "3. Write a function fib(n) to determine the nth Fibonacci number of a given n using recursion."
   ]
  },
  {
   "cell_type": "code",
   "execution_count": 6,
   "metadata": {},
   "outputs": [
    {
     "name": "stdin",
     "output_type": "stream",
     "text": [
      "Enter a number =  10\n"
     ]
    },
    {
     "name": "stdout",
     "output_type": "stream",
     "text": [
      "The fibonacci number of 10 is =  55\n"
     ]
    }
   ],
   "source": [
    "def fib(n):\n",
    "    if (n==1) or (n==0): return n\n",
    "    return fib(n-1) + fib(n-2)\n",
    "n = int(input(\"Enter a number = \"))\n",
    "print(\"The fibonacci number of\",n,\"is = \",fib(n))"
   ]
  },
  {
   "cell_type": "markdown",
   "metadata": {},
   "source": [
    "4. Write a function gcd(a,b) to determine the GCD of given a and b using recursion."
   ]
  },
  {
   "cell_type": "code",
   "execution_count": 8,
   "metadata": {},
   "outputs": [
    {
     "name": "stdin",
     "output_type": "stream",
     "text": [
      "Enter a number =  48\n",
      "Enter a number =  56\n"
     ]
    },
    {
     "name": "stdout",
     "output_type": "stream",
     "text": [
      "The GCD of  48 and 56 is 8\n"
     ]
    }
   ],
   "source": [
    "def gcd(a, b):\n",
    "    if b <= 0 :\n",
    "        return a\n",
    "    else:\n",
    "        return gcd(b,a%b)\n",
    "a = int(input(\"Enter a number = \"))\n",
    "b = int(input(\"Enter a number = \"))\n",
    "print(\"The GCD of \",a,\"and\",b, \"is\",gcd(a,b))"
   ]
  },
  {
   "cell_type": "markdown",
   "metadata": {},
   "source": [
    "5. Write a function sum_upto_n(n) to determine the sum upto n using recursion."
   ]
  },
  {
   "cell_type": "code",
   "execution_count": 9,
   "metadata": {},
   "outputs": [
    {
     "name": "stdin",
     "output_type": "stream",
     "text": [
      "Enter a number =  15\n"
     ]
    },
    {
     "name": "stdout",
     "output_type": "stream",
     "text": [
      "120\n"
     ]
    }
   ],
   "source": [
    "def sum_upto_n(n):\n",
    "    if n == 0: return n\n",
    "    return n + sum_upto_n(n-1)\n",
    "n = int(input(\"Enter a number = \"))\n",
    "print(sum_upto_n(n))"
   ]
  },
  {
   "cell_type": "markdown",
   "metadata": {},
   "source": [
    "6. Write a menu driven as earlier but this time rewrite the function calc(f,a,b) to take as input arguments a function f, operand a, operand b and applies the f on a,b as f(a,b) using lambda functions. Demonstrate using a test program for different operations."
   ]
  },
  {
   "cell_type": "code",
   "execution_count": 10,
   "metadata": {},
   "outputs": [
    {
     "name": "stdout",
     "output_type": "stream",
     "text": [
      " 1. add = + \n",
      " 2. sub = - \n",
      " 3. multiply = * \n",
      " 4. divide = / \n",
      " 5. quit = q\n"
     ]
    },
    {
     "name": "stdin",
     "output_type": "stream",
     "text": [
      "Enter a operator =  +\n",
      "Enter a number =  5\n",
      "Enter a number =  6\n"
     ]
    },
    {
     "name": "stdout",
     "output_type": "stream",
     "text": [
      "11\n"
     ]
    },
    {
     "name": "stdin",
     "output_type": "stream",
     "text": [
      "Enter a operator =  -\n",
      "Enter a number =  6\n",
      "Enter a number =  7\n"
     ]
    },
    {
     "name": "stdout",
     "output_type": "stream",
     "text": [
      "-1\n"
     ]
    },
    {
     "name": "stdin",
     "output_type": "stream",
     "text": [
      "Enter a operator =  *\n",
      "Enter a number =  5\n",
      "Enter a number =  5\n"
     ]
    },
    {
     "name": "stdout",
     "output_type": "stream",
     "text": [
      "25\n"
     ]
    },
    {
     "name": "stdin",
     "output_type": "stream",
     "text": [
      "Enter a operator =  q\n"
     ]
    }
   ],
   "source": [
    "def calc(f,a,b):\n",
    "    return f(a,b)\n",
    "print(' 1. add = + \\n 2. sub = - \\n 3. multiply = * \\n 4. divide = / \\n 5. quit = q')\n",
    "while True:\n",
    "    oper = input(\"Enter a operator = \")\n",
    "    if oper == 'q':\n",
    "        break\n",
    "    a = int(input(\"Enter a number = \"))\n",
    "    b = int(input(\"Enter a number = \"))\n",
    "    if oper == '+':\n",
    "        print(calc(lambda a,b : a+b, a, b))\n",
    "    elif oper == '-':\n",
    "        print(calc(lambda a,b : a-b, a, b))\n",
    "    elif oper == '*':\n",
    "        print(calc(lambda a,b : a*b, a, b))\n",
    "    elif oper == '/':\n",
    "        print(calc(lambda a,b : a/b, a, b))\n",
    "    else:\n",
    "        print('invalid syntax')"
   ]
  },
  {
   "cell_type": "markdown",
   "metadata": {},
   "source": [
    "7. Write a function find_min_max(f,a,b) which takes as input arguments a function f, starting range a, end range b and determines the max and min of f(x) for a<=x<=b using lambda functions. Demonstrate using a test program for different functions."
   ]
  },
  {
   "cell_type": "code",
   "execution_count": null,
   "metadata": {},
   "outputs": [],
   "source": [
    "def find_min_max(f,a,b):\n",
    "    mn=f(a)\n",
    "    mx=f(a)\n",
    "    for i in range(a,b+1):\n",
    "        if mx<f(i):\n",
    "            mx=f(i)\n",
    "        if mn>f(i):\n",
    "            mn=f(i)\n",
    "    return mx,mn\n",
    "a=int(input('enter a:'))\n",
    "b=int(input('enter b:'))\n",
    "f=lambda x:x**2\n",
    "print"
   ]
  },
  {
   "cell_type": "markdown",
   "metadata": {},
   "source": [
    "8. Write a function compose(f,g,x) which takes as input argument two functions f and g and returns f(g(x)). For example, $f(x)=\\sqrt{x},g(x)=x^2,f(g(x))=x$. Demonstrate using a test program for different function compositions."
   ]
  },
  {
   "cell_type": "code",
   "execution_count": 14,
   "metadata": {},
   "outputs": [
    {
     "name": "stdin",
     "output_type": "stream",
     "text": [
      "Enter a number =  2\n"
     ]
    },
    {
     "name": "stdout",
     "output_type": "stream",
     "text": [
      "64\n"
     ]
    }
   ],
   "source": [
    "def compose(f,g,x):\n",
    "    return f(g(x))\n",
    "r = compose(lambda x : x**3 , lambda x : x**2 , a)\n",
    "a = int(input('Enter a number = '))\n",
    "print(r)"
   ]
  },
  {
   "cell_type": "markdown",
   "metadata": {},
   "source": [
    "9.Write a function add_to_constant(n), which returns a function add(x), which adds x to n and returns the sum. Demonstrate using a test program."
   ]
  },
  {
   "cell_type": "code",
   "execution_count": 20,
   "metadata": {},
   "outputs": [
    {
     "name": "stdin",
     "output_type": "stream",
     "text": [
      "Enter a number =  5\n"
     ]
    },
    {
     "name": "stdout",
     "output_type": "stream",
     "text": [
      "10\n"
     ]
    }
   ],
   "source": [
    "def add_to_constant(n):\n",
    "    def add(x):\n",
    "        return x+n\n",
    "    return add\n",
    "n = int(input('Enter a number = '))\n",
    "g = add_to_constant(n)\n",
    "print(g(5))"
   ]
  },
  {
   "cell_type": "markdown",
   "metadata": {},
   "source": [
    "10. Write a function check_fancy_number(f,n) which a takes a function f, number n and prints whether n is a Prime or Palindrome or Armstrong or Krishnamoorthy number. Demonstrate using a test program for different numbers.\n"
   ]
  },
  {
   "cell_type": "code",
   "execution_count": null,
   "metadata": {},
   "outputs": [],
   "source": [
    "def check_prime(n):\n",
    "    for i in range (n):\n",
    "        if n % i == 0:\n",
    "            return True\n",
    "        else:\n",
    "            return False\n",
    "\n",
    "def check_palindrome(n):\n",
    "    t = n\n",
    "    s = 0\n",
    "    while n >0:\n",
    "        d = n % 10\n",
    "        n = n // 10\n",
    "        s = s * 10 + d\n",
    "    if s == t : return True\n",
    "    return False\n",
    "\n",
    "def check_krishnamoorthy(n):\n",
    "    s = 0\n",
    "    t = n\n",
    "    while n > 0:\n",
    "        d = n % 10\n",
    "        n = n // 10\n",
    "        s = find_factorial(d) + s\n",
    "    if t == s:\n",
    "        return True\n",
    "    return False\n",
    "def check_armstrong (n):\n",
    "    order = len(str(n))\n",
    "    s = 0\n",
    "    t = n\n",
    "    while n > 0:\n",
    "        d = n % 10\n",
    "        n = n // 10\n",
    "        s = d ** order + s\n",
    "    if t == s:\n",
    "        return True\n",
    "    return False\n",
    "\n",
    "def check(n):\n",
    "    if check_prime(n):\n",
    "        print(\"Prime\")\n",
    "    if check_palindrome(n):\n",
    "        print(\"Palindrome\")\n",
    "    if check_krishnamoorthy(n):\n",
    "        print(\"Krishnamoorthy\")\n",
    "    if check_armstrong(n):\n",
    "        print(\"Armstrong\")\n",
    "def check_fancy_number(f,n):\n",
    "    return f(n)\n",
    "\n",
    "n = int(input(\"Enter a number :\"))\n",
    "fancy = check_fancy_number(check,n)"
   ]
  },
  {
   "cell_type": "code",
   "execution_count": null,
   "metadata": {},
   "outputs": [],
   "source": []
  }
 ],
 "metadata": {
  "kernelspec": {
   "display_name": "Python 3",
   "language": "python",
   "name": "python3"
  },
  "language_info": {
   "codemirror_mode": {
    "name": "ipython",
    "version": 3
   },
   "file_extension": ".py",
   "mimetype": "text/x-python",
   "name": "python",
   "nbconvert_exporter": "python",
   "pygments_lexer": "ipython3",
   "version": "3.8.5"
  }
 },
 "nbformat": 4,
 "nbformat_minor": 4
}
