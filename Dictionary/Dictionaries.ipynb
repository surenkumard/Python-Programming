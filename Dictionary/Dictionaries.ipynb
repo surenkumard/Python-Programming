{
 "cells": [
  {
   "cell_type": "markdown",
   "metadata": {},
   "source": [
    "1. Write a Python program to count the numbers of characters in the string and store them in\n",
    "a dictionary data structure."
   ]
  },
  {
   "cell_type": "code",
   "execution_count": 1,
   "metadata": {},
   "outputs": [
    {
     "name": "stdout",
     "output_type": "stream",
     "text": [
      "{'s': 2, 't': 4, 'u': 2, 'd': 1, 'e': 2, 'n': 4, 'a': 3, 'i': 2, 'v': 1, 'r': 1, 'y': 1}\n"
     ]
    }
   ],
   "source": [
    "str1 = 'student at anna university'\n",
    "d = {}\n",
    "def frequency(x):\n",
    "    for i in x:\n",
    "        if i not in d and i.isalpha():\n",
    "            d[i] = 1\n",
    "        else:\n",
    "            if i.isalpha():\n",
    "                d[i] += 1\n",
    "    return d\n",
    "print(frequency(str1))"
   ]
  },
  {
   "cell_type": "markdown",
   "metadata": {},
   "source": [
    "2. Write a Python program to sort a list alphabetically in a dictionary."
   ]
  },
  {
   "cell_type": "code",
   "execution_count": 2,
   "metadata": {},
   "outputs": [
    {
     "name": "stdout",
     "output_type": "stream",
     "text": [
      "['d', 'e', 'n', 's', 't', 'u']\n"
     ]
    }
   ],
   "source": [
    "l = {'s': 2, 't': 4, 'u': 2, 'd': 1, 'e': 2, 'n': 4}\n",
    "def dic_sort(d):\n",
    "    return sorted(d.keys())\n",
    "print(dic_sort(l))"
   ]
  },
  {
   "cell_type": "markdown",
   "metadata": {},
   "source": [
    "3. Write a Python program to map two lists into a dictionary."
   ]
  },
  {
   "cell_type": "code",
   "execution_count": 4,
   "metadata": {},
   "outputs": [
    {
     "name": "stdout",
     "output_type": "stream",
     "text": [
      "{'a': 1, 'b': 2, 'c': 3, 'd': 4, 'e': 5}\n"
     ]
    }
   ],
   "source": [
    "lst1 = list('abcde')\n",
    "lst2 = [1,2,3,4,5]\n",
    "print(dict(zip(lst1,lst2)))"
   ]
  },
  {
   "cell_type": "markdown",
   "metadata": {},
   "source": [
    "4. Write a Python script to concatenate following dictionaries to create a new one as d1={1:10,2:20},d2={3:30,4:40},d3={5:50,6:60}, result={1:10,2:20,3:30,4:40,5:50,6:60}."
   ]
  },
  {
   "cell_type": "code",
   "execution_count": 5,
   "metadata": {},
   "outputs": [
    {
     "name": "stdout",
     "output_type": "stream",
     "text": [
      "{'a': 10, 'b': 20, 'c': 30, 'd': 40, 'e': 50, 'f': 60}\n"
     ]
    }
   ],
   "source": [
    "dic1 = {'a': 10, 'b': 20}\n",
    "dic2 = {'c': 30, 'd': 40}\n",
    "dic3 = {'e': 50, 'f': 60}\n",
    "dic = {}\n",
    "dic.update(dic1)\n",
    "dic.update(dic2)\n",
    "dic.update(dic3)\n",
    "print(dic)"
   ]
  },
  {
   "cell_type": "markdown",
   "metadata": {},
   "source": [
    "5. Write a Python script to concatenate following dictionaries to create a new one as d1={1:10,2:20},d2={3:30,4:40},d3={5:50,6:60}, result={1:10,2:20,3:30,4:40,5:50,6:60}."
   ]
  },
  {
   "cell_type": "code",
   "execution_count": 6,
   "metadata": {},
   "outputs": [
    {
     "name": "stdout",
     "output_type": "stream",
     "text": [
      "{'a': 10, 'b': 20, 'c': 30, 'd': 40, 'e': 50, 'f': 60}\n"
     ]
    }
   ],
   "source": [
    "dic1 = {'a': 10, 'b': 20}\n",
    "dic2 = {'c': 30, 'd': 40}\n",
    "dic3 = {'e': 50, 'f': 60}\n",
    "dic = {}\n",
    "dic.update(dic1)\n",
    "dic.update(dic2)\n",
    "dic.update(dic3)\n",
    "print(dic)"
   ]
  },
  {
   "cell_type": "markdown",
   "metadata": {},
   "source": [
    "6. Write a Python script to generate and print a dictionary that contains a number between 1 and n in the form (x,x*x). Sample output dictionary for n=4: {1:1, 2:4, 3:9, 4:16}."
   ]
  },
  {
   "cell_type": "code",
   "execution_count": 28,
   "metadata": {},
   "outputs": [
    {
     "name": "stdin",
     "output_type": "stream",
     "text": [
      "Enter n =  5\n"
     ]
    },
    {
     "name": "stdout",
     "output_type": "stream",
     "text": [
      "{1: 2, 2: 4, 3: 6, 4: 8, 5: 10}\n"
     ]
    }
   ],
   "source": [
    "n = int(input('Enter n = '))\n",
    "dict1 = {x:x*2 for x in range(1,n+1)}\n",
    "print(dict1)"
   ]
  },
  {
   "cell_type": "markdown",
   "metadata": {},
   "source": [
    "7. Write a Python program to combine two dictionary adding values for common keys."
   ]
  },
  {
   "cell_type": "code",
   "execution_count": 7,
   "metadata": {},
   "outputs": [
    {
     "name": "stdout",
     "output_type": "stream",
     "text": [
      "{'a': 5, 'b': 5, 'c': 10, 'd': 10, 'e': 5, 'f': 5}\n"
     ]
    }
   ],
   "source": [
    "d1 = {'a':5, 'b':5, 'c':5, 'd':5}\n",
    "d2 = {'c':5, 'd':5, 'e':5, 'f':5}\n",
    "d3 = d1\n",
    "def add_dic(x):\n",
    "    for key,val in x.items():\n",
    "        if key not in d3:\n",
    "            d3[key] = val\n",
    "        else:\n",
    "            d3[key] += val\n",
    "    return d3\n",
    "print(add_dic(d2))"
   ]
  },
  {
   "cell_type": "markdown",
   "metadata": {},
   "source": [
    "8. Write a Python program that displays information about a student. Use nested dictionary\n"
   ]
  },
  {
   "cell_type": "code",
   "execution_count": 8,
   "metadata": {},
   "outputs": [
    {
     "name": "stdout",
     "output_type": "stream",
     "text": [
      "roll no : 2022115042\n",
      "name : suren\n",
      "age : 17\n",
      "dept : IT\n",
      "roll no : 2022115041\n",
      "name : adithyan\n",
      "age : 17\n",
      "dept : IT\n"
     ]
    }
   ],
   "source": [
    "dic = {2022115042: {'name': 'suren', 'age': 17, 'dept': 'IT'}, 2022115041: {'name': 'adithyan', 'age': 17, 'dept': 'IT'}}\n",
    "for i, j in dic.items():\n",
    "    print('roll no',':', i)\n",
    "    for key, val in j.items():\n",
    "        print(key, ':', val)"
   ]
  },
  {
   "cell_type": "markdown",
   "metadata": {},
   "source": [
    "9. Write a Python program that has a dictionary of subjects of first/second semester and their subject codes. Add another subject in the pre-defined dictionary, print all the items in the dictionary and try to print code for a subject which does not exists. Set a default value prior to printing."
   ]
  },
  {
   "cell_type": "code",
   "execution_count": 9,
   "metadata": {},
   "outputs": [
    {
     "name": "stdout",
     "output_type": "stream",
     "text": [
      "Eng_Physics : PH55151\n",
      "Eng_Maths : MA5151\n",
      "Eng_Chemistry : CH5151\n",
      "Technical English : GE5151\n",
      "Python Programming : PY5153\n",
      "\n"
     ]
    },
    {
     "name": "stdin",
     "output_type": "stream",
     "text": [
      "Enter another subject =  tamil\n"
     ]
    },
    {
     "name": "stdout",
     "output_type": "stream",
     "text": [
      "sub_dic[ tamil ]= TA5151\n"
     ]
    }
   ],
   "source": [
    "sub_dic = {'Eng_Physics': 'PH55151', 'Eng_Maths': 'MA5151', 'Eng_Chemistry': 'CH5151', 'Technical English': 'GE5151'}\n",
    "sub_dic['Python Programming'] = 'PY5153'\n",
    "for key, val in sub_dic.items():\n",
    "    print(key, ':', val)\n",
    "\n",
    "print()\n",
    "a = input('Enter another subject = ')\n",
    "if a in sub_dic:\n",
    "    print(sub_dic[a])\n",
    "else:\n",
    "    print('sub_dic[',a,']= TA5151')"
   ]
  },
  {
   "cell_type": "markdown",
   "metadata": {},
   "source": [
    "10. Write a Python program that has dictionary of names of Subject name and a list of that three assessment marks. Create another dictionary from this that has the name of the subjects and their total marks. Find out the top most scoring and least scoring with total."
   ]
  },
  {
   "cell_type": "code",
   "execution_count": 10,
   "metadata": {},
   "outputs": [
    {
     "name": "stdout",
     "output_type": "stream",
     "text": [
      "three assignment mark =  {'E_Mat': [20, 19, 57], 'Python': [18, 19, 55], 'E_phy': [18, 18, 54], 'E_Chem': [17, 17, 55], 'T_Eng': [17, 17, 52]}\n",
      "Total mark =  {'E_Mat': 96, 'Python': 92, 'E_phy': 90, 'E_Chem': 89, 'T_Eng': 86}\n",
      "The top score is =  96\n",
      "The least score is 86\n"
     ]
    }
   ],
   "source": [
    "mark = {'E_Mat': [20, 19, 57], 'Python': [18, 19, 55], 'E_phy': [18, 18, 54], 'E_Chem': [17, 17, 55], 'T_Eng': [17, 17, 52]}\n",
    "print('three assignment mark = ', mark)\n",
    "T_mark = {}\n",
    "for key, val in mark.items():\n",
    "    T_mark[key] = sum(val)\n",
    "\n",
    "print('Total mark = ', T_mark)\n",
    "print('The top score is = ', max(T_mark.values()))\n",
    "print('The least score is', min(T_mark.values()))"
   ]
  },
  {
   "cell_type": "markdown",
   "metadata": {},
   "source": [
    "11. Write a Python program to find maximum and the minimum value in a Dictionary."
   ]
  },
  {
   "cell_type": "code",
   "execution_count": 11,
   "metadata": {},
   "outputs": [
    {
     "name": "stdin",
     "output_type": "stream",
     "text": [
      "Enter a number of element =  5\n",
      "Enter a number =  10\n",
      "Enter a number =  5\n",
      "Enter a number =  1\n",
      "Enter a number =  20\n",
      "Enter a number =  3\n"
     ]
    },
    {
     "name": "stdout",
     "output_type": "stream",
     "text": [
      "(20, 1)\n"
     ]
    }
   ],
   "source": [
    "n = int(input('Enter a number of element = '))\n",
    "dict1 = {x:int(input('Enter a number = '))for x in range(1,n+1)}\n",
    "def mx_mn(x):\n",
    "    mx = x[1]\n",
    "    mn = x[1]\n",
    "    for i in x.values():\n",
    "        if i > mx:\n",
    "            mx = i\n",
    "        if i < mn:\n",
    "            mn = i\n",
    "    return mx , mn\n",
    "r = mx_mn(dict1)\n",
    "print(r)"
   ]
  },
  {
   "cell_type": "markdown",
   "metadata": {},
   "source": [
    "12. Write a Python program to illustrate the use of duplicate keys in a dictionary."
   ]
  },
  {
   "cell_type": "code",
   "execution_count": 12,
   "metadata": {},
   "outputs": [
    {
     "name": "stdout",
     "output_type": "stream",
     "text": [
      "{'a': 1, 'b': 2, 'c': 4}\n"
     ]
    }
   ],
   "source": [
    "dic = {'a': 2, 'b': 4, 'c': 2, 'a': 1, 'b': 2, 'c': 4}\n",
    "print(dic)"
   ]
  },
  {
   "cell_type": "markdown",
   "metadata": {},
   "source": [
    "13. Write a Python program to sort Counter by value.\n",
    "Sample data: {'Math':81, 'Physics':83, 'Chemistry':87}\n",
    "Expected data: [('Chemistry', 87), ('Physics', 83), ('Math', 81)]"
   ]
  },
  {
   "cell_type": "code",
   "execution_count": 14,
   "metadata": {},
   "outputs": [
    {
     "name": "stdout",
     "output_type": "stream",
     "text": [
      "[('Physics', 87), ('Chemistry', 83), ('Math', 81)]\n"
     ]
    }
   ],
   "source": [
    "def rever(d, reverse=False):\n",
    "    if reverse == True:\n",
    "        t = sorted(d.items(), key=lambda x: x[1], reverse=True)\n",
    "    else:\n",
    "        t = sorted(d.items(), key=lambda x: x[1], reverse=False)\n",
    "    return t\n",
    "\n",
    "dic = {'Math':81, 'Physics':87, 'Chemistry':83}\n",
    "print(rever(dic,True))"
   ]
  },
  {
   "cell_type": "markdown",
   "metadata": {},
   "source": [
    "14. Write a Python program to match key values in two dictionaries.\n",
    "Sample dictionary: {'key1': 1, 'key2': 3, 'key3': 2}, {'key1': 1, 'key2': 2}\n",
    "Expected output: key1: 1 is present in both x and y."
   ]
  },
  {
   "cell_type": "code",
   "execution_count": 15,
   "metadata": {},
   "outputs": [
    {
     "name": "stdout",
     "output_type": "stream",
     "text": [
      "key1 : 1 is present in both dictionary\n"
     ]
    }
   ],
   "source": [
    "d1={'key1': 1, 'key2': 1, 'key3': 2}\n",
    "d2={'key1': 1, 'key2': 2}\n",
    "for x in d1:\n",
    "    for y in d2:\n",
    "        if x == y and d1[x] == d2[y]:\n",
    "            print(x, ':', d1[x], 'is present in both dictionary')"
   ]
  },
  {
   "cell_type": "markdown",
   "metadata": {},
   "source": [
    "15. Write a Python script to sort (ascending and descending) a dictionary by value."
   ]
  },
  {
   "cell_type": "code",
   "execution_count": 16,
   "metadata": {},
   "outputs": [
    {
     "name": "stdout",
     "output_type": "stream",
     "text": [
      "[('d', 1), ('s', 2), ('u', 2), ('e', 2), ('t', 4), ('n', 4)]\n"
     ]
    }
   ],
   "source": [
    "def reverse(d, reverse=False):\n",
    "    if reverse == 1:\n",
    "        t = sorted(d.items(), key=lambda x: x[1], reverse=True)\n",
    "    else:\n",
    "        t = sorted(d.items(), key=lambda x: x[1], reverse=False)\n",
    "    return t\n",
    "\n",
    "\n",
    "dic = {'s': 2, 't': 4, 'u': 2, 'd': 1, 'e': 2, 'n': 4}\n",
    "print(reverse(dic))"
   ]
  },
  {
   "cell_type": "markdown",
   "metadata": {},
   "source": [
    "16. Write a Python program to get the top three items in a shop. \n",
    "                   Sample data: {'item1': 45.50, 'item2':35, 'item3': 41.30, 'item4':55, 'item5': 24} and\n",
    "                   Expected Output:\n",
    "                   item4 55\n",
    "                   item1 45.5\n",
    "                   item3 41.3"
   ]
  },
  {
   "cell_type": "code",
   "execution_count": 27,
   "metadata": {},
   "outputs": [
    {
     "name": "stdout",
     "output_type": "stream",
     "text": [
      "[('item4', 55), ('item1', 45.5), ('item3', 41.3)]\n"
     ]
    }
   ],
   "source": [
    "dic = {'item1': 45.50, 'item2':35, 'item3': 41.30, 'item4':55, 'item5': 24}\n",
    "i = 1\n",
    "dic1= reverse(dic, True)\n",
    "print(dic1[:3])"
   ]
  },
  {
   "cell_type": "markdown",
   "metadata": {},
   "source": [
    "17. Write a function def studrank(details) which performs the following actions:\n",
    "         a. Details is a dictionary given as input argument\n",
    "         b .Calculates the total internal marks for each student. Total internal marks is simply the cumulative summation of all subject marks obtained in ass1 and ass2.\n",
    "         c. Calculates the rank for each student based on the total internal marks\n",
    "         d. Sorts the elements in ascending order based on the computed rank\n",
    "         e. Test the function by creating a dictionary as given below:\n",
    "         details = {  20201010: {'name':'Khan','age':18, ass1':{'phy':88,'chem':99,'mat':99,'py':99},'ass2':{'phy':88,'chem':99,'mat':99,'py':99},'imark':0,'rank':0},\n",
    "                           20201011: {'name':'Sam','age':18, 'ass1':{'phy':81,'chem':79,'mat':99,'py':89},'ass2':{'phy':80,'chem':89,'mat':79,'py':79},'imark':0,'rank':0},\n",
    "                           20201012: {'name':'Ram','age':18, 'ass1':{'phy':68,'chem':79,'mat':89,'py':99},'ass2':{'phy':58,'chem':69,'mat':79,'py':99},'imark':0,'rank':0}}"
   ]
  },
  {
   "cell_type": "code",
   "execution_count": null,
   "metadata": {},
   "outputs": [],
   "source": []
  }
 ],
 "metadata": {
  "kernelspec": {
   "display_name": "Python 3",
   "language": "python",
   "name": "python3"
  },
  "language_info": {
   "codemirror_mode": {
    "name": "ipython",
    "version": 3
   },
   "file_extension": ".py",
   "mimetype": "text/x-python",
   "name": "python",
   "nbconvert_exporter": "python",
   "pygments_lexer": "ipython3",
   "version": "3.8.5"
  }
 },
 "nbformat": 4,
 "nbformat_minor": 4
}
