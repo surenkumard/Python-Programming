{
 "cells": [
  {
   "cell_type": "markdown",
   "metadata": {},
   "source": [
    "1. Write a Python program to read an integer number. Decrement the number if it is Negative."
   ]
  },
  {
   "cell_type": "code",
   "execution_count": 7,
   "metadata": {},
   "outputs": [
    {
     "name": "stdin",
     "output_type": "stream",
     "text": [
      "Enter a number -6\n"
     ]
    },
    {
     "name": "stdout",
     "output_type": "stream",
     "text": [
      "-7\n"
     ]
    }
   ],
   "source": [
    "num = int(input('Enter a number'))\n",
    "if num<0:\n",
    "    print(num-1)\n",
    "else:\n",
    "    print(num)\n",
    "    "
   ]
  },
  {
   "cell_type": "markdown",
   "metadata": {},
   "source": [
    "2. Write a Python program to read an integer number to determine whether the given number is divisible by 11."
   ]
  },
  {
   "cell_type": "code",
   "execution_count": 49,
   "metadata": {},
   "outputs": [
    {
     "name": "stdin",
     "output_type": "stream",
     "text": [
      "Enter a number 99\n"
     ]
    },
    {
     "name": "stdout",
     "output_type": "stream",
     "text": [
      "The given number divisible by 11\n"
     ]
    }
   ],
   "source": [
    "num = int(input('Enter a number'))\n",
    "if num % 11 == 0:\n",
    "    print (\"The given number divisible by 11\")"
   ]
  },
  {
   "cell_type": "markdown",
   "metadata": {},
   "source": [
    "3. Write a Python program to read two integer numbers and check whether they are equal or not."
   ]
  },
  {
   "cell_type": "code",
   "execution_count": 11,
   "metadata": {},
   "outputs": [
    {
     "name": "stdin",
     "output_type": "stream",
     "text": [
      "Enter a number : 444\n",
      "Enter a number : 444\n"
     ]
    },
    {
     "name": "stdout",
     "output_type": "stream",
     "text": [
      "The given numbers are equal\n"
     ]
    }
   ],
   "source": [
    "a = int(input('Enter a number :'))\n",
    "b = int(input('Enter a number :'))\n",
    "if a==b:\n",
    "    print(\"The given numbers are equal\")\n",
    "else:\n",
    "    print(\"The given numbers are not equal\")"
   ]
  },
  {
   "cell_type": "markdown",
   "metadata": {},
   "source": [
    "4. Write a Python program to read age of a user to determine whether the user is eligible to vote or not. If user is not\n",
    "eligible, display how many years are left to be eligible. "
   ]
  },
  {
   "cell_type": "code",
   "execution_count": 13,
   "metadata": {},
   "outputs": [
    {
     "name": "stdin",
     "output_type": "stream",
     "text": [
      "Enter a AGE :  16\n"
     ]
    },
    {
     "name": "stdout",
     "output_type": "stream",
     "text": [
      "2 years are left to be eligible\n"
     ]
    }
   ],
   "source": [
    "age = int(input('Enter a AGE : '))\n",
    "if age > 18 :\n",
    "    print(\"The user aligible for vote\")\n",
    "else:\n",
    "    print(18-age,\"years are left to be eligible\")"
   ]
  },
  {
   "cell_type": "markdown",
   "metadata": {},
   "source": [
    "5. Write a Python program to check whether the read number is odd or even."
   ]
  },
  {
   "cell_type": "code",
   "execution_count": 18,
   "metadata": {},
   "outputs": [
    {
     "name": "stdin",
     "output_type": "stream",
     "text": [
      "Enter a number : 44541\n"
     ]
    },
    {
     "name": "stdout",
     "output_type": "stream",
     "text": [
      "The given number is odd\n"
     ]
    }
   ],
   "source": [
    "num = int(input('Enter a number :'))\n",
    "if num % 2== 0:\n",
    "    print(\"The given number is even\")\n",
    "else:\n",
    "    print(\"The given number is odd\")"
   ]
  },
  {
   "cell_type": "markdown",
   "metadata": {},
   "source": [
    "6. Write a Python program to check whether the read number is Leap year or not. "
   ]
  },
  {
   "cell_type": "code",
   "execution_count": 33,
   "metadata": {},
   "outputs": [
    {
     "name": "stdin",
     "output_type": "stream",
     "text": [
      "Enter a year :  1900\n"
     ]
    },
    {
     "name": "stdout",
     "output_type": "stream",
     "text": [
      "The year is not leap year\n"
     ]
    }
   ],
   "source": [
    "year = int(input('Enter a year : '))\n",
    "if year % 100 == 0:\n",
    "    if year % 400 == 0:\n",
    "        print (\"The year is leap year\")\n",
    "    else:\n",
    "        print (\"The year is not leap year\")\n",
    "elif year % 4 == 0:\n",
    "    print (\"The year is leap year\")\n",
    "else:\n",
    "    print (\"The year is not leap year\")"
   ]
  },
  {
   "cell_type": "markdown",
   "metadata": {},
   "source": [
    "7. Write a Python program to check whether the read number is Positive or else."
   ]
  },
  {
   "cell_type": "code",
   "execution_count": 1,
   "metadata": {},
   "outputs": [
    {
     "name": "stdin",
     "output_type": "stream",
     "text": [
      "Enter a number :  73394\n"
     ]
    },
    {
     "name": "stdout",
     "output_type": "stream",
     "text": [
      "The read number is positive\n"
     ]
    }
   ],
   "source": [
    "num = int(input('Enter a number : '))\n",
    "if num > 0 :\n",
    "    print(\"The read number is positive\")\n",
    "elif num == 0 :\n",
    "    print ('not define')\n",
    "else:\n",
    "    print(\"The read number is negative\")"
   ]
  },
  {
   "cell_type": "markdown",
   "metadata": {},
   "source": [
    "8. Write a Python program to find the greatest number from three numbers. "
   ]
  },
  {
   "cell_type": "code",
   "execution_count": 2,
   "metadata": {},
   "outputs": [
    {
     "name": "stdout",
     "output_type": "stream",
     "text": [
      "The greatest number is  77\n"
     ]
    }
   ],
   "source": [
    "x = 76\n",
    "y = 75\n",
    "z = 77\n",
    "if x > y and x > z :\n",
    "    print (\"The greatest number is \",x)\n",
    "elif y > x and y > z :\n",
    "    print (\"The greatest number is \",y)\n",
    "else:\n",
    "    print (\"The greatest number is \",z)"
   ]
  },
  {
   "cell_type": "markdown",
   "metadata": {},
   "source": [
    "9 .Write a Python program that prompts the user to enter a number between 1 - 7 and then displays the corresponding day of\n",
    "   the week. "
   ]
  },
  {
   "cell_type": "code",
   "execution_count": 109,
   "metadata": {},
   "outputs": [
    {
     "name": "stdin",
     "output_type": "stream",
     "text": [
      "Enter a number : 5\n"
     ]
    },
    {
     "name": "stdout",
     "output_type": "stream",
     "text": [
      "Friday\n"
     ]
    }
   ],
   "source": [
    "num = int(input('Enter a number :'))\n",
    "if num == 1:\n",
    "    print (\"Monday\")\n",
    "elif num == 2:\n",
    "    print (\"Tuesday\")\n",
    "elif num ==3:\n",
    "    print (\"Wednesday\")\n",
    "elif num == 4:\n",
    "    print (\"Thursday\")\n",
    "elif num == 5:\n",
    "    print(\"Friday\")\n",
    "elif num == 6:\n",
    "    print (\"Saturday\")\n",
    "else:\n",
    "    print(\"Sunday\")"
   ]
  },
  {
   "cell_type": "markdown",
   "metadata": {},
   "source": [
    "10. Write a Python program to determine whether the character entered is a vowel or consonant"
   ]
  },
  {
   "cell_type": "code",
   "execution_count": 55,
   "metadata": {},
   "outputs": [
    {
     "name": "stdin",
     "output_type": "stream",
     "text": [
      "Enter a character h\n"
     ]
    },
    {
     "name": "stdout",
     "output_type": "stream",
     "text": [
      "The character is consonant\n"
     ]
    }
   ],
   "source": [
    "str = ['a','e','i','o','u','A','E','I','O','U']\n",
    "letter = input('Enter a character')\n",
    "if letter in str: \n",
    "    print(\"The character is vowel\")\n",
    "else:\n",
    "    print (\"The character is consonant\")"
   ]
  },
  {
   "cell_type": "markdown",
   "metadata": {},
   "source": [
    "11. Write a Python program to calculate roots of a quadratic equation. "
   ]
  },
  {
   "cell_type": "code",
   "execution_count": 56,
   "metadata": {},
   "outputs": [
    {
     "name": "stdin",
     "output_type": "stream",
     "text": [
      "Enter a coefficient of x**2 :  1\n",
      "Enter a coefficient of x :  3\n",
      "Enter a consant value :  2\n"
     ]
    },
    {
     "name": "stdout",
     "output_type": "stream",
     "text": [
      "The square root of the given quardratic equation is -1.0 and -2.0\n"
     ]
    }
   ],
   "source": [
    "import math\n",
    "a = int(input('Enter a coefficient of x**2 : '))\n",
    "b = int(input('Enter a coefficient of x : '))\n",
    "c = int(input('Enter a consant value : '))\n",
    "step1 = b ** 2 - 4 * a * c\n",
    "step2 = -b + math.sqrt(step1)\n",
    "step3 = -b - math.sqrt(step1)\n",
    "root1 = step2 / 2 * a\n",
    "root2 = step3 / 2 * a\n",
    "print (\"The square root of the given quardratic equation is\", root1 ,\"and\" ,root2 )"
   ]
  },
  {
   "cell_type": "markdown",
   "metadata": {},
   "source": [
    "12. Write a Python program that determines whether an alphabet, digit or a whitespace was entered. "
   ]
  },
  {
   "cell_type": "code",
   "execution_count": 122,
   "metadata": {},
   "outputs": [
    {
     "name": "stdin",
     "output_type": "stream",
     "text": [
      "Enter a data : 66\n"
     ]
    },
    {
     "name": "stdout",
     "output_type": "stream",
     "text": [
      "The given data is digit\n"
     ]
    }
   ],
   "source": [
    "data = input('Enter a data :')\n",
    "if data == ' ':\n",
    "    print (\"The given data is white space\")\n",
    "elif int(data) >= 0:\n",
    "    print (\"The given data is digit\")\n",
    "elif (ord(data)>64 and ord(data)<91) or (ord(data)>=97 and ord(data)<=122):\n",
    "    print (\"The given data is alphabet\" )    \n",
    "else:\n",
    "    print (\"The given data is some other character\")"
   ]
  },
  {
   "cell_type": "markdown",
   "metadata": {},
   "source": [
    "13. Write a python program that prompts users to enter a character (O, A, B, C, D). Then using if-elif-else construct display Outstanding, Very Good, Good, Average and Fail respectively"
   ]
  },
  {
   "cell_type": "code",
   "execution_count": 81,
   "metadata": {},
   "outputs": [
    {
     "name": "stdin",
     "output_type": "stream",
     "text": [
      "Enter a grade A\n"
     ]
    },
    {
     "name": "stdout",
     "output_type": "stream",
     "text": [
      "Very Good\n"
     ]
    }
   ],
   "source": [
    "ch = input('Enter a grade')\n",
    "if ch in ('O'):\n",
    "    print(\"outstanding\")\n",
    "elif ch in ('A'):\n",
    "    print(\"Very Good\")\n",
    "elif ch in ('B'):\n",
    "    print(\"Good\")\n",
    "elif ch in ('C'):\n",
    "    print(\"Average\")\n",
    "elif ch in ('D'):\n",
    "        print(\"Fail\")\n",
    "else:\n",
    "    print(\"check the input\")"
   ]
  },
  {
   "cell_type": "markdown",
   "metadata": {},
   "source": [
    "14. Consider a real-time scenario to find the number of days present in a month and during a leap year the number of days will change. Implement this in a programmatic way using if, elif and else statements. "
   ]
  },
  {
   "cell_type": "code",
   "execution_count": 110,
   "metadata": {},
   "outputs": [
    {
     "name": "stdin",
     "output_type": "stream",
     "text": [
      "Enter a month :  May\n"
     ]
    },
    {
     "name": "stdout",
     "output_type": "stream",
     "text": [
      "Total days in  May is 31\n"
     ]
    }
   ],
   "source": [
    "month = input('Enter a month : ')\n",
    "if month in ['January','March','May','July','August','Octomber','December']:\n",
    "    print (\"Total days in \",month , \"is 31\")\n",
    "elif month in ['April','June','September','November']:\n",
    "    print (\"Total days in\", month , \"is 30\")\n",
    "else:\n",
    "    year = input('Enter a year :')\n",
    "    if year % 100 ==0:\n",
    "        if year % 400 == 0:\n",
    "            print (\"Total days in\" ,month, \"is 29\")\n",
    "        else:\n",
    "            print (\"Total days in\", month , \"is 28\")\n",
    "    elif year % 4 == 0:\n",
    "        print(\"Total days in\" , month ,\" is 29\")\n",
    "    else:\n",
    "        print (\"Total days in\", month , \"is 28\")"
   ]
  },
  {
   "cell_type": "markdown",
   "metadata": {},
   "source": [
    "15. A video library rents new videos for Rs 75 / day and old movies for Rs 50 a day. Write a python program to calculate the total charge for a customer’s video rentals. The program should prompt the user for the number of each type of video and output the total cost. \n"
   ]
  },
  {
   "cell_type": "code",
   "execution_count": 108,
   "metadata": {},
   "outputs": [
    {
     "name": "stdin",
     "output_type": "stream",
     "text": [
      "Enter a number of new videos =  5\n",
      "Enter a number of old videos =  4\n"
     ]
    },
    {
     "name": "stdout",
     "output_type": "stream",
     "text": [
      "Total cost of the videos =  575\n"
     ]
    }
   ],
   "source": [
    "newvideo = int(input(\"Enter a number of new videos = \"))\n",
    "oldvideo = int(input(\"Enter a number of old videos = \"))\n",
    "a = 75*newvideo\n",
    "b = 50*oldvideo\n",
    "c = a + b\n",
    "print(\"Total cost of the videos = \",c)"
   ]
  },
  {
   "cell_type": "code",
   "execution_count": null,
   "metadata": {},
   "outputs": [],
   "source": []
  }
 ],
 "metadata": {
  "kernelspec": {
   "display_name": "Python 3",
   "language": "python",
   "name": "python3"
  },
  "language_info": {
   "codemirror_mode": {
    "name": "ipython",
    "version": 3
   },
   "file_extension": ".py",
   "mimetype": "text/x-python",
   "name": "python",
   "nbconvert_exporter": "python",
   "pygments_lexer": "ipython3",
   "version": "3.8.5"
  }
 },
 "nbformat": 4,
 "nbformat_minor": 4
}
