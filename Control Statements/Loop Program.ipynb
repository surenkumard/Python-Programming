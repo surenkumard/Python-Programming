{
 "cells": [
  {
   "cell_type": "code",
   "execution_count": null,
   "metadata": {},
   "outputs": [],
   "source": [
    "1. To check whether a given number n is prime number or not."
   ]
  },
  {
   "cell_type": "code",
   "execution_count": 1,
   "metadata": {},
   "outputs": [
    {
     "name": "stdin",
     "output_type": "stream",
     "text": [
      "Enter a number :  97\n"
     ]
    },
    {
     "name": "stdout",
     "output_type": "stream",
     "text": [
      "The given number is prime\n"
     ]
    }
   ],
   "source": [
    "n = int(input('Enter a number : '))\n",
    "for i in range (2,n-1):\n",
    "    if n % i == 0 :\n",
    "        print(\"The given number is not prime\")\n",
    "        break\n",
    "else:\n",
    "    print(\"The given number is prime\")"
   ]
  },
  {
   "cell_type": "markdown",
   "metadata": {},
   "source": [
    "2. To determine and print the factors of a given number n."
   ]
  },
  {
   "cell_type": "code",
   "execution_count": 3,
   "metadata": {},
   "outputs": [
    {
     "name": "stdin",
     "output_type": "stream",
     "text": [
      "Enter a number :  6\n"
     ]
    },
    {
     "name": "stdout",
     "output_type": "stream",
     "text": [
      "720\n"
     ]
    }
   ],
   "source": [
    "num = int(input(\"Enter a number : \"))\n",
    "fact = 1\n",
    "for i in range(1,num +1):\n",
    "    fact = fact * i\n",
    "print(fact)"
   ]
  },
  {
   "cell_type": "markdown",
   "metadata": {},
   "source": [
    "3. To determine and print whether a given number is palindrome number or not."
   ]
  },
  {
   "cell_type": "code",
   "execution_count": 4,
   "metadata": {},
   "outputs": [
    {
     "name": "stdin",
     "output_type": "stream",
     "text": [
      "Enter a number :  12221\n"
     ]
    },
    {
     "name": "stdout",
     "output_type": "stream",
     "text": [
      "12221 is palindrome\n"
     ]
    }
   ],
   "source": [
    "n = int(input(\"Enter a number : \"))\n",
    "temp = n\n",
    "S = 0\n",
    "while n > 0:\n",
    "    div = n % 10\n",
    "    n = n // 10\n",
    "    S = S * 10 + div\n",
    "if temp == S:\n",
    "    print (temp , \"is palindrome\")\n",
    "else:\n",
    "    print(temp, \"is not palindrome\")"
   ]
  },
  {
   "cell_type": "markdown",
   "metadata": {},
   "source": [
    "4. To determine and print whether a given number is Armstrong number or not."
   ]
  },
  {
   "cell_type": "code",
   "execution_count": 5,
   "metadata": {},
   "outputs": [
    {
     "name": "stdin",
     "output_type": "stream",
     "text": [
      "Enter a number :  153\n"
     ]
    },
    {
     "name": "stdout",
     "output_type": "stream",
     "text": [
      "153 is Armstrong number\n"
     ]
    }
   ],
   "source": [
    "n = int(input(\"Enter a number : \"))\n",
    "order = len(str(n))\n",
    "S = 0\n",
    "temp = n\n",
    "while n > 0:\n",
    "    d = n % 10\n",
    "    n = n // 10\n",
    "    S = d ** order + S\n",
    "if S == temp:\n",
    "    print (temp , \"is Armstrong number\")\n",
    "else:\n",
    "    print(temp , \"is not Armstorg number\")"
   ]
  },
  {
   "cell_type": "markdown",
   "metadata": {},
   "source": [
    "5. To print the all Fibonacci numbers between 0 and n where n is obtained as input."
   ]
  },
  {
   "cell_type": "code",
   "execution_count": 6,
   "metadata": {},
   "outputs": [
    {
     "name": "stdin",
     "output_type": "stream",
     "text": [
      "Enter a number :  1000\n"
     ]
    },
    {
     "name": "stdout",
     "output_type": "stream",
     "text": [
      "0 , 1, 1, 2, 3, 5, 8, 13, 21, 34, 55, 89, 144, 233, 377, 610, 987, "
     ]
    }
   ],
   "source": [
    "num = int(input(\"Enter a number : \"))\n",
    "n1 = 0\n",
    "n2 = 1\n",
    "val = 0\n",
    "print( n1,',', n2, end=', ')\n",
    "while val <= num :\n",
    "    val = n1 + n2\n",
    "    n1 = n2\n",
    "    n2 = val\n",
    "    if val > num:\n",
    "        break\n",
    "    print( val , end = ', ')"
   ]
  },
  {
   "cell_type": "markdown",
   "metadata": {},
   "source": [
    "6. To print a square filled with stars for a given dimension m and n. For example, given m=4 and n=4 the program should print\n",
    "          ****\n",
    "          ****\n",
    "          ****\n",
    "          ****"
   ]
  },
  {
   "cell_type": "code",
   "execution_count": 7,
   "metadata": {},
   "outputs": [
    {
     "name": "stdin",
     "output_type": "stream",
     "text": [
      "Enter a number of rows =  5\n",
      "Enter a number of colums =  5\n"
     ]
    },
    {
     "name": "stdout",
     "output_type": "stream",
     "text": [
      "* * * * * \n",
      "* * * * * \n",
      "* * * * * \n",
      "* * * * * \n",
      "* * * * * \n"
     ]
    }
   ],
   "source": [
    "m = int(input(\"Enter a number of rows = \"))\n",
    "n = int(input(\"Enter a number of colums = \"))\n",
    "for i in range (0 , m):\n",
    "    for j in range(0,n):\n",
    "        print('*',end=' ')\n",
    "    print()"
   ]
  },
  {
   "cell_type": "markdown",
   "metadata": {},
   "source": [
    "7. To print a square filled with stars only on the borders for a given dimension m and n. For example, given m=4 and n=4 the program should print\n",
    "          ****\n",
    "          *  *\n",
    "          *  *\n",
    "          ****"
   ]
  },
  {
   "cell_type": "code",
   "execution_count": 8,
   "metadata": {},
   "outputs": [
    {
     "name": "stdin",
     "output_type": "stream",
     "text": [
      "Enter a number of rows =  6\n",
      "Enter a number of colums =  6\n"
     ]
    },
    {
     "name": "stdout",
     "output_type": "stream",
     "text": [
      "* * * * * * \n",
      "*         * \n",
      "*         * \n",
      "*         * \n",
      "*         * \n",
      "* * * * * * \n"
     ]
    }
   ],
   "source": [
    "m = int(input(\"Enter a number of rows = \"))\n",
    "n = int(input(\"Enter a number of colums = \"))\n",
    "for i in range (0,m):\n",
    "    for j in range (0,n):\n",
    "        if i == 0 or i == m-1 or j == 0 or j == n-1:\n",
    "            print('*',end = ' ')\n",
    "        else:\n",
    "            print(' ',end = ' ')\n",
    "    print()"
   ]
  },
  {
   "cell_type": "markdown",
   "metadata": {},
   "source": [
    "8. To print a right angled triangle filled with stars for a given dimension m and n. For example, given m=4 and n=4 the program should print\n",
    "         *\n",
    "         **\n",
    "         ***\n",
    "         ****\n"
   ]
  },
  {
   "cell_type": "code",
   "execution_count": 9,
   "metadata": {},
   "outputs": [
    {
     "name": "stdin",
     "output_type": "stream",
     "text": [
      "Enter a number =  6\n"
     ]
    },
    {
     "name": "stdout",
     "output_type": "stream",
     "text": [
      "*   \n",
      "* *   \n",
      "* * *   \n",
      "* * * *   \n",
      "* * * * *   \n",
      "* * * * * *   \n"
     ]
    }
   ],
   "source": [
    "m = int(input(\"Enter a number = \"))\n",
    "for i in range (0,m):\n",
    "    for j in range(0,i+1):\n",
    "        print('*',end =' ')\n",
    "    else:\n",
    "        print(' ',end=' ')\n",
    "    print()"
   ]
  },
  {
   "cell_type": "markdown",
   "metadata": {},
   "source": [
    "9. To print a right angled triangle filled with stars only on the borders for a given dimension m and n."
   ]
  },
  {
   "cell_type": "code",
   "execution_count": 10,
   "metadata": {},
   "outputs": [
    {
     "name": "stdin",
     "output_type": "stream",
     "text": [
      "Enter the side length :  8\n"
     ]
    },
    {
     "name": "stdout",
     "output_type": "stream",
     "text": [
      "        *\n",
      "\n",
      "       * *\n",
      "\n",
      "      *   *\n",
      "\n",
      "     *     *\n",
      "\n",
      "    *       *\n",
      "\n",
      "   *         *\n",
      "\n",
      "  *           *\n",
      "\n",
      " * * * * * * * *\n",
      "\n"
     ]
    }
   ],
   "source": [
    "side = int(input(\"Enter the side length : \"))\n",
    "for i in range(side):\n",
    "    for j in range(side - i):\n",
    "        print(\" \", end='')\n",
    "    for j in range(i * 2 + 1):\n",
    "        if (j == 0 or j == i * 2):\n",
    "            print(\"*\", end='')\n",
    "        elif (i == side - 1 and j % 2 == 0):\n",
    "            print(\"*\", end='')\n",
    "        else:\n",
    "            print(\" \", end='')\n",
    "    print(\"\\n\")"
   ]
  },
  {
   "cell_type": "markdown",
   "metadata": {},
   "source": [
    "10. To print a inverted right angled triangle filled with stars for a given dimension m and n. For example, given m=4 and n=4 the program should print\n",
    "         ****\n",
    "         ***\n",
    "         **\n",
    "         *"
   ]
  },
  {
   "cell_type": "code",
   "execution_count": 11,
   "metadata": {},
   "outputs": [
    {
     "name": "stdin",
     "output_type": "stream",
     "text": [
      "Enter a number =  7\n"
     ]
    },
    {
     "name": "stdout",
     "output_type": "stream",
     "text": [
      "* * * * * *   \n",
      "* * * * *   \n",
      "* * * *   \n",
      "* * *   \n",
      "* *   \n",
      "*   \n",
      "  \n"
     ]
    }
   ],
   "source": [
    "m = int(input(\"Enter a number = \"))\n",
    "for i in range (m,0,-1):\n",
    "    for j in range(0,i-1):\n",
    "        print('*',end =' ')\n",
    "    else:\n",
    "        print(' ',end=' ')\n",
    "    print()"
   ]
  },
  {
   "cell_type": "markdown",
   "metadata": {},
   "source": [
    "11. To print a equilateral triangle filled with stars for a given dimension m and n. "
   ]
  },
  {
   "cell_type": "code",
   "execution_count": 12,
   "metadata": {},
   "outputs": [
    {
     "name": "stdin",
     "output_type": "stream",
     "text": [
      "Enter the side length :  8\n"
     ]
    },
    {
     "name": "stdout",
     "output_type": "stream",
     "text": [
      "        *\n",
      "       * *\n",
      "      * * *\n",
      "     * * * *\n",
      "    * * * * *\n",
      "   * * * * * *\n",
      "  * * * * * * *\n",
      " * * * * * * * *\n"
     ]
    }
   ],
   "source": [
    "side = int(input(\"Enter the side length : \"))\n",
    "for i in range(side):\n",
    "    for j in range(side - i):\n",
    "        print(\" \", end='')\n",
    "    for j in range(i * 2 + 1):\n",
    "        if (j % 2 == 0):\n",
    "            print(\"*\", end='')\n",
    "        else:\n",
    "            print(\" \", end='')\n",
    "    print()"
   ]
  },
  {
   "cell_type": "markdown",
   "metadata": {},
   "source": [
    "12. To print a equilateral triangle filled with stars only on the borders for a given dimension m and n. "
   ]
  },
  {
   "cell_type": "code",
   "execution_count": 13,
   "metadata": {},
   "outputs": [
    {
     "name": "stdin",
     "output_type": "stream",
     "text": [
      "Enter the side length :  7\n"
     ]
    },
    {
     "name": "stdout",
     "output_type": "stream",
     "text": [
      "       *\n",
      "\n",
      "      * *\n",
      "\n",
      "     *   *\n",
      "\n",
      "    *     *\n",
      "\n",
      "   *       *\n",
      "\n",
      "  *         *\n",
      "\n",
      " * * * * * * *\n",
      "\n"
     ]
    }
   ],
   "source": [
    "side = int(input(\"Enter the side length : \"))\n",
    "for i in range(side):\n",
    "    for j in range(side - i):\n",
    "        print(\" \",end='')\n",
    "    for j in range(i * 2 + 1):\n",
    "        if (j == 0 or j == i * 2):\n",
    "            print(\"*\", end='')\n",
    "        elif (i == side - 1 and j % 2 == 0):\n",
    "            print(\"*\", end='')\n",
    "        else:\n",
    "            print(\" \", end='')\n",
    "    print(\"\\n\")"
   ]
  },
  {
   "cell_type": "markdown",
   "metadata": {},
   "source": [
    "13. To print a inverted equilateral triangle filled with stars for a given dimension m and n. "
   ]
  },
  {
   "cell_type": "code",
   "execution_count": 14,
   "metadata": {},
   "outputs": [
    {
     "name": "stdin",
     "output_type": "stream",
     "text": [
      "Enter the side length :  8\n"
     ]
    },
    {
     "name": "stdout",
     "output_type": "stream",
     "text": [
      "* * * * * * * *\n",
      " * * * * * * *\n",
      "  * * * * * *\n",
      "   * * * * *\n",
      "    * * * *\n",
      "     * * *\n",
      "      * *\n",
      "       *\n"
     ]
    }
   ],
   "source": [
    "side = int(input(\"Enter the side length : \"))\n",
    "for i in range(side,0,-1):\n",
    "    for j in range(side - i):\n",
    "        print(\" \", end='')\n",
    "    for j in range(i * 2 - 1):\n",
    "        if (j % 2 == 0):\n",
    "            print(\"*\", end='')\n",
    "        else:\n",
    "            print(\" \", end='')\n",
    "    print()"
   ]
  },
  {
   "cell_type": "markdown",
   "metadata": {},
   "source": [
    "14. To print all palindrome numbers in given range (a,b)"
   ]
  },
  {
   "cell_type": "code",
   "execution_count": null,
   "metadata": {},
   "outputs": [],
   "source": []
  }
 ],
 "metadata": {
  "kernelspec": {
   "display_name": "Python 3",
   "language": "python",
   "name": "python3"
  },
  "language_info": {
   "codemirror_mode": {
    "name": "ipython",
    "version": 3
   },
   "file_extension": ".py",
   "mimetype": "text/x-python",
   "name": "python",
   "nbconvert_exporter": "python",
   "pygments_lexer": "ipython3",
   "version": "3.8.5"
  }
 },
 "nbformat": 4,
 "nbformat_minor": 4
}
