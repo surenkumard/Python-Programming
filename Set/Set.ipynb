{
 "cells": [
  {
   "cell_type": "markdown",
   "metadata": {},
   "source": [
    "1)Write a Python program to create and access values stored in a set."
   ]
  },
  {
   "cell_type": "code",
   "execution_count": 2,
   "metadata": {},
   "outputs": [
    {
     "name": "stdin",
     "output_type": "stream",
     "text": [
      "Enter a number of element =  5\n",
      "ENTER A VALUES =  hi\n",
      "ENTER A VALUES =  hello\n",
      "ENTER A VALUES =  world\n",
      "ENTER A VALUES =  100\n",
      "ENTER A VALUES =  !\n"
     ]
    },
    {
     "name": "stdout",
     "output_type": "stream",
     "text": [
      "Create set is =  {'hello', 'world', 'hi', '!', '100'}\n",
      "hello\n",
      "world\n",
      "hi\n",
      "!\n",
      "100\n"
     ]
    }
   ],
   "source": [
    "n = int(input('Enter a number of element = '))\n",
    "s = {input('ENTER A VALUES = ') for x in range(n)}\n",
    "print('Create set is = ', s)\n",
    "for i in s:\n",
    "    print(i)"
   ]
  },
  {
   "cell_type": "markdown",
   "metadata": {},
   "source": [
    "2)Write a Python program to iteration over sets."
   ]
  },
  {
   "cell_type": "code",
   "execution_count": 3,
   "metadata": {},
   "outputs": [
    {
     "name": "stdout",
     "output_type": "stream",
     "text": [
      "1\n",
      "4\n",
      "2\n",
      "3\n",
      "5\n"
     ]
    }
   ],
   "source": [
    "set1 = set('12345')\n",
    "for x in set1:\n",
    "    print(x)"
   ]
  },
  {
   "cell_type": "markdown",
   "metadata": {},
   "source": [
    "3)Write a Python program to add member(s) in a set."
   ]
  },
  {
   "cell_type": "code",
   "execution_count": 11,
   "metadata": {},
   "outputs": [
    {
     "name": "stdout",
     "output_type": "stream",
     "text": [
      "q - for quit\n"
     ]
    },
    {
     "name": "stdin",
     "output_type": "stream",
     "text": [
      "Enter a values =  hi\n",
      "Enter a values =  hello\n",
      "Enter a values =  IT\n",
      "Enter a values =  CEG\n",
      "Enter a values =  Bye\n",
      "Enter a values =  q\n"
     ]
    },
    {
     "name": "stdout",
     "output_type": "stream",
     "text": [
      "{'Bye', 'hello', 'CEG', 'hi', 'IT'}\n"
     ]
    }
   ],
   "source": [
    "set1 = set()\n",
    "s = 0\n",
    "print('q - for quit')\n",
    "while s != 'q':\n",
    "    s = input('Enter a values = ')\n",
    "    set1.add(s)\n",
    "set1.remove('q')\n",
    "print(set1)"
   ]
  },
  {
   "cell_type": "markdown",
   "metadata": {},
   "source": [
    "4)Write a Python program to find the length of a set."
   ]
  },
  {
   "cell_type": "code",
   "execution_count": 5,
   "metadata": {},
   "outputs": [
    {
     "name": "stdout",
     "output_type": "stream",
     "text": [
      "5\n"
     ]
    }
   ],
   "source": [
    "set1 = {'hi', 1, 2, 5, 'def'}\n",
    "print(len(set1))"
   ]
  },
  {
   "cell_type": "markdown",
   "metadata": {},
   "source": [
    "5)Write a Python program to remove item(s) from set."
   ]
  },
  {
   "cell_type": "code",
   "execution_count": 6,
   "metadata": {},
   "outputs": [
    {
     "name": "stdin",
     "output_type": "stream",
     "text": [
      "Enter a remove item =  5\n"
     ]
    },
    {
     "name": "stdout",
     "output_type": "stream",
     "text": [
      "{'1', 'hi', '2', 'def'}\n"
     ]
    }
   ],
   "source": [
    "set1 = {'hi', '1', '2', '5', 'def'}\n",
    "set1.remove(input('Enter a remove item = '))\n",
    "print(set1)"
   ]
  },
  {
   "cell_type": "markdown",
   "metadata": {},
   "source": [
    "6)Write a Python program to remove an item from a set if it is present in the set."
   ]
  },
  {
   "cell_type": "code",
   "execution_count": 7,
   "metadata": {},
   "outputs": [
    {
     "name": "stdin",
     "output_type": "stream",
     "text": [
      "Enter a remove item =  4\n"
     ]
    },
    {
     "name": "stdout",
     "output_type": "stream",
     "text": [
      "{'1', 'hi', '2', 'def', '5'}\n"
     ]
    }
   ],
   "source": [
    "set1 = {'hi', '1', '2', '5', 'def'}\n",
    "set1.discard(input('Enter a remove item = '))\n",
    "print(set1)"
   ]
  },
  {
   "cell_type": "markdown",
   "metadata": {},
   "source": [
    "7)Write a Python program to make two sets of random integers and find intersection, union,set difference and symmetric difference between sets."
   ]
  },
  {
   "cell_type": "code",
   "execution_count": 8,
   "metadata": {},
   "outputs": [
    {
     "name": "stdout",
     "output_type": "stream",
     "text": [
      "Union =  {1, 2, 3, 4, 5, 6, 7, 8, 9}\n",
      "Intersection =  {4, 5, 6}\n",
      "Difference =  {1, 2, 3}\n",
      "Symmetric difference =  {1, 2, 3, 7, 8, 9}\n"
     ]
    }
   ],
   "source": [
    "set1 = {1, 2, 3, 4, 5, 6}\n",
    "set2 = {4, 5, 6, 7, 8, 9}\n",
    "print('Union = ', set1 | set2)\n",
    "print('Intersection = ', set1 & set2)\n",
    "print('Difference = ', set1 - set2)\n",
    "print(\"Symmetric difference = \", set1 ^ set2)"
   ]
  },
  {
   "cell_type": "markdown",
   "metadata": {},
   "source": [
    "8)Write a Python program to find maximum and the minimum value in a set."
   ]
  },
  {
   "cell_type": "code",
   "execution_count": 9,
   "metadata": {},
   "outputs": [
    {
     "name": "stdout",
     "output_type": "stream",
     "text": [
      "The minimum value of set is =  1\n",
      "The maximum value of set is =  9\n"
     ]
    }
   ],
   "source": [
    "set1 = {1, 2, 3, 4, 5, 6, 7, 8, 9}\n",
    "print('The minimum value of set is = ', min(set1))\n",
    "print('The maximum value of set is = ', max(set1))"
   ]
  },
  {
   "cell_type": "markdown",
   "metadata": {},
   "source": [
    "9)Write a Python program that has a list of countries. Create a set of the countries and print the names of the countries in sorted order."
   ]
  },
  {
   "cell_type": "code",
   "execution_count": 10,
   "metadata": {},
   "outputs": [
    {
     "name": "stdin",
     "output_type": "stream",
     "text": [
      "Enter a countries =  India\n",
      "Enter a countries =  USA\n",
      "Enter a countries =  Japan\n",
      "Enter a countries =  q\n"
     ]
    },
    {
     "name": "stdout",
     "output_type": "stream",
     "text": [
      "List of countries =  ['India', 'USA', 'Japan']\n",
      "The set of countries =  {'India', 'USA', 'Japan'}\n",
      "The sorted order of set is =  ['India', 'Japan', 'USA']\n"
     ]
    }
   ],
   "source": [
    "print('q - for quit')\n",
    "lst = []\n",
    "a = 0\n",
    "while a != 'q':\n",
    "    a = input('Enter a countries = ')\n",
    "    lst.append(a)\n",
    "lst.pop()\n",
    "print('List of countries = ', lst)\n",
    "print('The set of countries = ', set(lst))\n",
    "print('The sorted order of set is = ', sorted(set(lst)))"
   ]
  },
  {
   "cell_type": "markdown",
   "metadata": {},
   "source": [
    "10)Write a Python program that creates two sets: Squares and Cubes in range 10 – 20. Demonstrate the use of update (), pop (), remove (), add () and clear () functions."
   ]
  },
  {
   "cell_type": "code",
   "execution_count": 12,
   "metadata": {},
   "outputs": [
    {
     "name": "stdout",
     "output_type": "stream",
     "text": [
      "[100, 121, 144, 169, 196, 225, 256, 289, 324, 361, 400]\n",
      "[1000, 1331, 1728, 2197, 2744, 3375, 4096, 4913, 5832, 6859]\n",
      "{256, 225, 289, 100, 196, 324, '1', 169, 361, 144, 400, 121}\n",
      "{225, 289, 100, 196, 324, '1', 169, 361, 144, 400, 121}\n",
      "{225, 289, 196, 324, '1', 169, 361, 144, 400, 121}\n",
      "{225, 289, 196, 324, '1', 169, 361, 10, 144, 400, 121}\n",
      "set()\n"
     ]
    }
   ],
   "source": [
    "set1 = {x * x for x in range(10, 21)}\n",
    "set2 = {x ** 3 for x in range(10, 20)}\n",
    "print(sorted(set1))\n",
    "print(sorted(set2))\n",
    "set1.update('1')\n",
    "print(set1)\n",
    "set1.pop()\n",
    "print(set1)\n",
    "set1.remove(100)\n",
    "print(set1)\n",
    "set1.add(10)\n",
    "print(set1)\n",
    "set1.clear()\n",
    "print(set1)"
   ]
  }
 ],
 "metadata": {
  "kernelspec": {
   "display_name": "Python 3",
   "language": "python",
   "name": "python3"
  },
  "language_info": {
   "codemirror_mode": {
    "name": "ipython",
    "version": 3
   },
   "file_extension": ".py",
   "mimetype": "text/x-python",
   "name": "python",
   "nbconvert_exporter": "python",
   "pygments_lexer": "ipython3",
   "version": "3.8.5"
  }
 },
 "nbformat": 4,
 "nbformat_minor": 4
}
