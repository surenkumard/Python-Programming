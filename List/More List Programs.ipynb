{
 "cells": [
  {
   "cell_type": "markdown",
   "metadata": {},
   "source": [
    "1. Write a function def search s a target t and list l and returns True if t is present in l False other1. Write a function def search(t,l) which takewise."
   ]
  },
  {
   "cell_type": "code",
   "execution_count": 1,
   "metadata": {},
   "outputs": [
    {
     "name": "stdin",
     "output_type": "stream",
     "text": [
      "Enter a target number =  4\n"
     ]
    },
    {
     "name": "stdout",
     "output_type": "stream",
     "text": [
      "The given target number 4 in a list\n"
     ]
    }
   ],
   "source": [
    "def search(target,list):\n",
    "    for i in list:\n",
    "        if i==target:\n",
    "            return True\n",
    "    return False\n",
    "l=[1,2,3,4,5]\n",
    "target=int(input('Enter a target number = '))\n",
    "r= search(target,l)\n",
    "if r==True:\n",
    "    print('The given target number',target,'in a list')\n",
    "else:\n",
    "    print('The given target number',target,'not in a list')"
   ]
  },
  {
   "cell_type": "markdown",
   "metadata": {},
   "source": [
    "2. Write a function def arrange(l,r) which takes list l and a bool parameter r to sort ascending or descending."
   ]
  },
  {
   "cell_type": "code",
   "execution_count": 2,
   "metadata": {},
   "outputs": [
    {
     "name": "stdout",
     "output_type": "stream",
     "text": [
      "True for ascendinng , False for descending\n"
     ]
    },
    {
     "name": "stdin",
     "output_type": "stream",
     "text": [
      "Enter bool value =  True\n"
     ]
    },
    {
     "name": "stdout",
     "output_type": "stream",
     "text": [
      "[3, 4, 7, 9, 46, 87]\n"
     ]
    }
   ],
   "source": [
    "def arrange(l,r):\n",
    "    if r=='True':\n",
    "        for i in range(len(l)):\n",
    "            for j in range(len(l)-i-1):\n",
    "                if l[j]>l[j+1]:\n",
    "                    l[j],l[j+1]=l[j+1],l[j]\n",
    "        return l\n",
    "    else:\n",
    "        for i in range(len(l)):\n",
    "            for j in range(len(l)-i-1):\n",
    "                if l[j]<l[j+1]:\n",
    "                    l[j],l[j+1]=l[j+1],l[j]\n",
    "        return l\n",
    "l=[87,7,4,9,46,3]\n",
    "print('True for ascendinng , False for descending')\n",
    "r=input('Enter bool value = ')\n",
    "print(arrange(l,r))"
   ]
  },
  {
   "cell_type": "markdown",
   "metadata": {},
   "source": [
    "3. Write a function def frequency(l) which takes a list l and returns the frequency of each element as a list."
   ]
  },
  {
   "cell_type": "code",
   "execution_count": 4,
   "metadata": {},
   "outputs": [
    {
     "name": "stdout",
     "output_type": "stream",
     "text": [
      "[1, 2, 3, 4, 1, 2, 3, 1, 2, 1]\n",
      "[4, 3, 2, 1]\n"
     ]
    }
   ],
   "source": [
    "def frequency(l):\n",
    "    l1=[]\n",
    "    l2=[]\n",
    "    for i in l:\n",
    "        if i not in l2:\n",
    "            l2.append(i)\n",
    "    for i in l2:\n",
    "        c=l.count(i)\n",
    "        l1.append(c)\n",
    "    return l1\n",
    "l=[1,2,3,4,1,2,3,1,2,1]\n",
    "r=frequency(l)\n",
    "print(l)\n",
    "print(r)"
   ]
  },
  {
   "cell_type": "markdown",
   "metadata": {},
   "source": [
    "4. Write a function def squared(l) which takes a list l and squares each element in l and returns the result as list."
   ]
  },
  {
   "cell_type": "code",
   "execution_count": 5,
   "metadata": {},
   "outputs": [
    {
     "name": "stdout",
     "output_type": "stream",
     "text": [
      "[1, 4, 9, 16, 25]\n"
     ]
    }
   ],
   "source": [
    "l=[1,2,3,4,5]\n",
    "p=[]\n",
    "def squared(l):\n",
    "    for i in l:\n",
    "        p.append(i*i)\n",
    "    return p\n",
    "r=squared(l)\n",
    "print(r)"
   ]
  },
  {
   "cell_type": "markdown",
   "metadata": {},
   "source": [
    "5. Write a function def segregate(l) which takes a list l and segregates the list into a list in which first elements are positive, second are zeros and followed by negative elements. The function returns a new list thus formed without affecting the original list."
   ]
  },
  {
   "cell_type": "code",
   "execution_count": 6,
   "metadata": {},
   "outputs": [
    {
     "name": "stdout",
     "output_type": "stream",
     "text": [
      "[-3, 0, 4, -2, 9, 3, -2, -1]\n",
      "[4, 9, 3, 0, -3, -2, -2, -1]\n"
     ]
    }
   ],
   "source": [
    "def segregate(l):\n",
    "    l1=[]\n",
    "    for i in range(len(l)):\n",
    "        if l[i]>0:\n",
    "            l1.append(l[i])\n",
    "    for i in range(len(l)):\n",
    "        if l[i]==0:\n",
    "            l1.append(l[i])\n",
    "    for i in range(len(l)):\n",
    "        if l[i]<0:\n",
    "            l1.append(l[i])\n",
    "    return l1\n",
    "l=[-3,0,4,-2,9,3,-2,-1]\n",
    "r=segregate(l[:])\n",
    "print(l)\n",
    "print(r)"
   ]
  },
  {
   "cell_type": "code",
   "execution_count": null,
   "metadata": {},
   "outputs": [],
   "source": []
  }
 ],
 "metadata": {
  "kernelspec": {
   "display_name": "Python 3",
   "language": "python",
   "name": "python3"
  },
  "language_info": {
   "codemirror_mode": {
    "name": "ipython",
    "version": 3
   },
   "file_extension": ".py",
   "mimetype": "text/x-python",
   "name": "python",
   "nbconvert_exporter": "python",
   "pygments_lexer": "ipython3",
   "version": "3.8.5"
  }
 },
 "nbformat": 4,
 "nbformat_minor": 4
}
