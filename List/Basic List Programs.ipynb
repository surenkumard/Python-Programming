{
 "cells": [
  {
   "cell_type": "markdown",
   "metadata": {},
   "source": [
    "1. Write a Python program to create a list named as “student” with student details and print the details."
   ]
  },
  {
   "cell_type": "code",
   "execution_count": 5,
   "metadata": {},
   "outputs": [
    {
     "name": "stdout",
     "output_type": "stream",
     "text": [
      "Suren Kumar\n",
      "IT\n",
      "k\n",
      "2022115042\n"
     ]
    }
   ],
   "source": [
    "student = ['Suren Kumar','IT','k',2022115042]\n",
    "for i in student:\n",
    "    print(i)"
   ]
  },
  {
   "cell_type": "markdown",
   "metadata": {},
   "source": [
    "2. Write a Python program to illustrate creation, append, remove, update and delete values in a list"
   ]
  },
  {
   "cell_type": "code",
   "execution_count": 6,
   "metadata": {},
   "outputs": [
    {
     "name": "stdout",
     "output_type": "stream",
     "text": [
      "[2, 4, 6, 8, 10]\n",
      "[2, 4, 6, 8, 10, 'hi']\n",
      "[2, 6, 8, 10, 'hi']\n",
      "[111, 6, 8, 10, 'hi']\n",
      "[6, 8, 10, 'hi']\n"
     ]
    }
   ],
   "source": [
    "a = [2,4,6,8,10]\n",
    "b = a[:]\n",
    "print(b)\n",
    "a.append('hi')\n",
    "print(a)\n",
    "a.remove(4)\n",
    "print(a)\n",
    "a[0] = 111\n",
    "print(a)\n",
    "del a[0]\n",
    "print(a)"
   ]
  },
  {
   "cell_type": "markdown",
   "metadata": {},
   "source": [
    "3. Write a Python program to find the sum and mean of elements in a list for which elements are obtained from the user."
   ]
  },
  {
   "cell_type": "code",
   "execution_count": 8,
   "metadata": {},
   "outputs": [
    {
     "name": "stdout",
     "output_type": "stream",
     "text": [
      "q for quit\n"
     ]
    },
    {
     "name": "stdin",
     "output_type": "stream",
     "text": [
      "Enter a number =  1\n",
      "Enter a number =  2\n",
      "Enter a number =  3\n",
      "Enter a number =  4\n",
      "Enter a number =  5\n",
      "Enter a number =  q\n"
     ]
    },
    {
     "name": "stdout",
     "output_type": "stream",
     "text": [
      "[1, 2, 3, 4, 5]\n",
      "The sum of a list =  15\n",
      "The mean value of a list =  3.0\n"
     ]
    }
   ],
   "source": [
    "l = []\n",
    "print('q for quit')\n",
    "while True:\n",
    "    n = input('Enter a number = ')\n",
    "    if n == 'q':\n",
    "        break\n",
    "    else:\n",
    "        l.append(int(n))\n",
    "x = len(l)\n",
    "def sum_mean(l):\n",
    "    s = 0\n",
    "    for i in range(x):\n",
    "        s = s + l[i]\n",
    "    return s\n",
    "print(l)\n",
    "a = sum_mean(l)\n",
    "print('The sum of a list = ',a)\n",
    "print('The mean value of a list = ',a/x)"
   ]
  },
  {
   "cell_type": "markdown",
   "metadata": {},
   "source": [
    "4. Write a Python program to find the maximum and minimum of elements in a list for which elements are obtained from the user."
   ]
  },
  {
   "cell_type": "code",
   "execution_count": 9,
   "metadata": {},
   "outputs": [
    {
     "name": "stdout",
     "output_type": "stream",
     "text": [
      " q for quit \n",
      " enter integer number only\n"
     ]
    },
    {
     "name": "stdin",
     "output_type": "stream",
     "text": [
      "Enter a number =  1\n",
      "Enter a number =  2\n",
      "Enter a number =  3\n",
      "Enter a number =  4\n",
      "Enter a number =  5\n",
      "Enter a number =  q\n"
     ]
    },
    {
     "name": "stdout",
     "output_type": "stream",
     "text": [
      "['1', '2', '3', '4', '5']\n",
      "The maximum number is  5\n",
      "The minimum number is  1\n",
      "None\n"
     ]
    }
   ],
   "source": [
    "def max_min(l):\n",
    "    mx = l[0]\n",
    "    mn = l[0]\n",
    "    for i in range(len(l)):\n",
    "        if mx < l[i]:\n",
    "            mx = l[i]\n",
    "        elif mn > l[i]:\n",
    "            mn = l[i]\n",
    "    print('The maximum number is ',mx)\n",
    "    print('The minimum number is ',mn)\n",
    "print(' q for quit \\n enter integer number only')\n",
    "my_list =[]\n",
    "while True:\n",
    "    c = input('Enter a number = ')\n",
    "    if c == 'q' : break\n",
    "    else:\n",
    "        my_list.append(c)\n",
    "print(my_list)\n",
    "print(max_min(my_list))"
   ]
  },
  {
   "cell_type": "markdown",
   "metadata": {},
   "source": [
    "5. Write a Python program that prints all consonants in a list of character. Obtain the list from the user."
   ]
  },
  {
   "cell_type": "code",
   "execution_count": 11,
   "metadata": {},
   "outputs": [
    {
     "name": "stdout",
     "output_type": "stream",
     "text": [
      "q for quit\n"
     ]
    },
    {
     "name": "stdin",
     "output_type": "stream",
     "text": [
      "Enter a character =  suren kumar\n",
      "Enter a character =  rudhresh\n",
      "Enter a character =  niranjan\n",
      "Enter a character =  q\n"
     ]
    },
    {
     "name": "stdout",
     "output_type": "stream",
     "text": [
      "['suren kumar', 'rudhresh', 'niranjan']\n",
      "['s', 'r', 'n', 'k', 'm', 'r', 'r', 'd', 'h', 'r', 's', 'h', 'n', 'r', 'n', 'j', 'n']\n"
     ]
    }
   ],
   "source": [
    "l = []\n",
    "print('q for quit')\n",
    "while True:\n",
    "    n = input('Enter a character = ')\n",
    "    if n == 'q':\n",
    "        break\n",
    "    else:\n",
    "        l.append(n)\n",
    "print(l)\n",
    "p=[]\n",
    "for i in range(len(l)):\n",
    "    for j in range(len(l[i])):\n",
    "        x = (l[i][j])\n",
    "        if x != 'a' and x != 'e' and x != 'i' and x != 'o' and x != 'u' and x!=' ':\n",
    "            p.append(x)\n",
    "print(p)"
   ]
  },
  {
   "cell_type": "markdown",
   "metadata": {},
   "source": [
    "6. Write a Python program to remove duplicates from a list. Obtain the list from the user."
   ]
  },
  {
   "cell_type": "code",
   "execution_count": 14,
   "metadata": {},
   "outputs": [
    {
     "name": "stdout",
     "output_type": "stream",
     "text": [
      "q for quit\n"
     ]
    },
    {
     "name": "stdin",
     "output_type": "stream",
     "text": [
      "Enter a number =  1\n",
      "Enter a number =  2\n",
      "Enter a number =  3\n",
      "Enter a number =  4\n",
      "Enter a number =  1\n",
      "Enter a number =  2\n",
      "Enter a number =  1\n",
      "Enter a number =  5\n",
      "Enter a number =  q\n"
     ]
    },
    {
     "name": "stdout",
     "output_type": "stream",
     "text": [
      "[1, 2, 3, 4, 1, 2, 1, 5]\n",
      "The new list after remove duplicates [1, 2, 3, 4, 5]\n"
     ]
    }
   ],
   "source": [
    "l = []\n",
    "print('q for quit')\n",
    "while True:\n",
    "    n = input('Enter a number = ')\n",
    "    if n == 'q':\n",
    "        break\n",
    "    else:\n",
    "        l.append(int(n))\n",
    "print(l)\n",
    "p=[]\n",
    "for val in l:\n",
    "    if val not in p:\n",
    "        p.append(val)\n",
    "print('The new list after remove duplicates',p)"
   ]
  },
  {
   "cell_type": "markdown",
   "metadata": {},
   "source": [
    "7. Write a Python program to print the count of each element present in a list. Obtain the list from the user."
   ]
  },
  {
   "cell_type": "code",
   "execution_count": 13,
   "metadata": {},
   "outputs": [
    {
     "name": "stdout",
     "output_type": "stream",
     "text": [
      "q for quit\n"
     ]
    },
    {
     "name": "stdin",
     "output_type": "stream",
     "text": [
      "Enter a number =  1\n",
      "Enter a number =  2\n",
      "Enter a number =  3\n",
      "Enter a number =  4\n",
      "Enter a number =  1\n",
      "Enter a number =  2\n",
      "Enter a number =  3\n",
      "Enter a number =  1\n",
      "Enter a number =  2\n",
      "Enter a number =  1\n",
      "Enter a number =  q\n"
     ]
    },
    {
     "name": "stdout",
     "output_type": "stream",
     "text": [
      "[1, 2, 3, 4, 1, 2, 3, 1, 2, 1]\n",
      "The count of 1 is 4\n",
      "The count of 2 is 3\n",
      "The count of 3 is 2\n",
      "The count of 4 is 1\n"
     ]
    }
   ],
   "source": [
    "l = []\n",
    "print('q for quit')\n",
    "while True:\n",
    "    n = input('Enter a number = ')\n",
    "    if n == 'q':\n",
    "        break\n",
    "    else:\n",
    "        l.append(int(n))\n",
    "print(l)\n",
    "p=[]\n",
    "for val in l:\n",
    "    if val not in p:\n",
    "        p.append(val)\n",
    "        print('The count of',val,'is',l.count(val))"
   ]
  },
  {
   "cell_type": "markdown",
   "metadata": {},
   "source": [
    "\n",
    "8. Write a Python program to print all prime numbers present in a list. Obtain the list from the user."
   ]
  },
  {
   "cell_type": "code",
   "execution_count": 12,
   "metadata": {},
   "outputs": [
    {
     "name": "stdout",
     "output_type": "stream",
     "text": [
      "q for quit\n"
     ]
    },
    {
     "name": "stdin",
     "output_type": "stream",
     "text": [
      "Enter a number =  2\n",
      "Enter a number =  3\n",
      "Enter a number =  4\n",
      "Enter a number =  5\n",
      "Enter a number =  6\n",
      "Enter a number =  7\n",
      "Enter a number =  8\n",
      "Enter a number =  9\n",
      "Enter a number =  q\n"
     ]
    },
    {
     "name": "stdout",
     "output_type": "stream",
     "text": [
      "The prime numbers are [2, 3, 5, 7]\n"
     ]
    }
   ],
   "source": [
    "def isprime(n):\n",
    "    for i in range(2,n):\n",
    "        if n%i==0:\n",
    "            return False\n",
    "    return True\n",
    "\n",
    "l = []\n",
    "print('q for quit')\n",
    "while True:\n",
    "    n = input('Enter a number = ')\n",
    "    if n == 'q':\n",
    "        break\n",
    "    else:\n",
    "        l.append(int(n))\n",
    "p=[]\n",
    "for val in l:\n",
    "    if isprime(val):\n",
    "        p.append(val)\n",
    "print('The prime numbers are', p)\n"
   ]
  },
  {
   "cell_type": "markdown",
   "metadata": {},
   "source": [
    "9. Write a Python function that generates all the prime numbers in a given range and returns them as a list. Obtain the range from the user.\n"
   ]
  },
  {
   "cell_type": "code",
   "execution_count": 16,
   "metadata": {},
   "outputs": [
    {
     "name": "stdin",
     "output_type": "stream",
     "text": [
      "Enter a starting number =  2\n",
      "Enter a end number =   15\n"
     ]
    },
    {
     "name": "stdout",
     "output_type": "stream",
     "text": [
      "[2, 3, 4, 5, 6, 7, 8, 9, 10, 11, 12, 13, 14, 15]\n",
      "The prime numbers are [2, 3, 5, 7, 11, 13]\n"
     ]
    }
   ],
   "source": [
    "a = int(input('Enter a starting number = '))\n",
    "b = int(input('Enter a end number =  '))\n",
    "l = [x for x in range(a,b+1)]\n",
    "print(l)\n",
    "p=[]\n",
    "for val in l:\n",
    "    if isprime(val):\n",
    "        p.append(val)\n",
    "print('The prime numbers are', p)\n"
   ]
  },
  {
   "cell_type": "markdown",
   "metadata": {},
   "source": [
    "10. Write a Python function that generates all the Armstrong numbers in a given range and returns them as a list. Obtain the range from the user."
   ]
  },
  {
   "cell_type": "code",
   "execution_count": null,
   "metadata": {},
   "outputs": [],
   "source": [
    "def armstrong(n):\n",
    "    temp = n\n",
    "    order = len(str(n))\n",
    "    s = 0\n",
    "    while n > 0:\n",
    "        d = n // 10\n",
    "        n = n % 10\n",
    "        s = s + d ** order\n",
    "    if temp == s:\n",
    "        return True\n",
    "    return False\n",
    "print(armstrong(153))\n",
    "\n",
    "a = int(input('Enter a starting number = '))\n",
    "b = int(input('Enter a end number =  '))\n",
    "l = [x for x in range(a,b+1)]\n",
    "print(l)\n",
    "p=[]\n",
    "for val in l:\n",
    "    if armstrong(val):\n",
    "        p.append(val)\n",
    "print('The armstrong numbers are', p)\n"
   ]
  }
 ],
 "metadata": {
  "kernelspec": {
   "display_name": "Python 3",
   "language": "python",
   "name": "python3"
  },
  "language_info": {
   "codemirror_mode": {
    "name": "ipython",
    "version": 3
   },
   "file_extension": ".py",
   "mimetype": "text/x-python",
   "name": "python",
   "nbconvert_exporter": "python",
   "pygments_lexer": "ipython3",
   "version": "3.8.5"
  }
 },
 "nbformat": 4,
 "nbformat_minor": 4
}
