{
 "cells": [
  {
   "cell_type": "markdown",
   "metadata": {},
   "source": [
    "                            Lists, Higher order functions and Strings"
   ]
  },
  {
   "cell_type": "markdown",
   "metadata": {},
   "source": [
    "1. Write a Python program for the following: Make a list of first ten letters of the alphabet, then using the slice operation do the following operations.\n",
    "   a) Print the first three letters from the list.\n",
    "   b) Print any three letters from the middle.\n",
    "   c) Print the letters from any particular index to the end of the list."
   ]
  },
  {
   "cell_type": "code",
   "execution_count": 1,
   "metadata": {},
   "outputs": [
    {
     "name": "stdin",
     "output_type": "stream",
     "text": [
      "first ten alphabet =  abcdefghij\n"
     ]
    },
    {
     "name": "stdout",
     "output_type": "stream",
     "text": [
      "Original list is  ['a', 'b', 'c', 'd', 'e', 'f', 'g', 'h', 'i', 'j']\n",
      "a) ['a', 'b', 'c']\n",
      "b) ['e', 'f', 'g']\n",
      "c) ['f', 'g', 'h', 'i', 'j']\n"
     ]
    }
   ],
   "source": [
    "lst = list(input('first ten alphabet = '))\n",
    "print('Original list is ', lst)\n",
    "print('a)', lst[:3])\n",
    "print('b)', lst[4:7])\n",
    "print('c)', lst[5::1])"
   ]
  },
  {
   "cell_type": "markdown",
   "metadata": {},
   "source": [
    "2. Write a Python program to insert a list in another list using the slice operation."
   ]
  },
  {
   "cell_type": "code",
   "execution_count": 2,
   "metadata": {},
   "outputs": [
    {
     "name": "stdout",
     "output_type": "stream",
     "text": [
      "[1, 2, 3, [4, 5, 6], 8, 9, 10]\n"
     ]
    }
   ],
   "source": [
    "list1 = [1,2,3,7,8,9,10]\n",
    "list2 = [4,5,6]\n",
    "list1[3] = list2\n",
    "print(list1)"
   ]
  },
  {
   "cell_type": "markdown",
   "metadata": {},
   "source": [
    "3. Write a Python program to create a copy as well as the clone of the original list."
   ]
  },
  {
   "cell_type": "code",
   "execution_count": 3,
   "metadata": {},
   "outputs": [
    {
     "name": "stdout",
     "output_type": "stream",
     "text": [
      "Original list is  [0, 1, 2, 3, 4, 5, 6, 7, 8, 9, 10] \n",
      " Copy list is [0, 1, 2, 3, 4, 5, 6, 7, 8, 9, 10] \n",
      " cloning list [0, 2, 4, 6, 8, 10]\n"
     ]
    }
   ],
   "source": [
    "list1 = [0, 1, 2, 3, 4, 5, 6, 7, 8, 9, 10]\n",
    "list2 = list1\n",
    "list3 = list1[::2]\n",
    "print('Original list is ', list1, '\\n', 'Copy list is', list2, '\\n', 'cloning list', list3)"
   ]
  },
  {
   "cell_type": "markdown",
   "metadata": {},
   "source": [
    "4. Write a Python program that prompts the user to enter an alphabet. Print all the words in the list that starts with that alphabet."
   ]
  },
  {
   "cell_type": "code",
   "execution_count": 5,
   "metadata": {},
   "outputs": [
    {
     "name": "stdin",
     "output_type": "stream",
     "text": [
      "Enter a number of element in a list =  5\n",
      "Enter a element =  apple\n",
      "Enter a element =  orange\n",
      "Enter a element =  banana\n",
      "Enter a element =  affogato\n",
      "Enter a element =  acai berry\n",
      "Enter a alphabet =  a\n"
     ]
    },
    {
     "name": "stdout",
     "output_type": "stream",
     "text": [
      "['apple', 'affogato', 'acai berry']\n"
     ]
    }
   ],
   "source": [
    "n = int(input('Enter a number of element in a list = '))\n",
    "lst1 = [input('Enter a element = ') for x in range(n)]\n",
    "a = input('Enter a alphabet = ')\n",
    "lst2 = [i for i in lst1 if i[0] == a]\n",
    "print(lst2)"
   ]
  },
  {
   "cell_type": "markdown",
   "metadata": {},
   "source": [
    "5. Write a Python program that prints all consonants in a string using list comprehension."
   ]
  },
  {
   "cell_type": "code",
   "execution_count": 6,
   "metadata": {},
   "outputs": [
    {
     "name": "stdin",
     "output_type": "stream",
     "text": [
      "Enter a string =  Anna University\n"
     ]
    },
    {
     "name": "stdout",
     "output_type": "stream",
     "text": [
      "['n', 'n', 'n', 'v', 'r', 's', 't', 'y']\n"
     ]
    }
   ],
   "source": [
    "str1 = input('Enter a string = ')\n",
    "val = ['a', 'e', 'i', 'o', 'u', 'A', 'E', 'I', 'O', 'U']\n",
    "lst = [x for x in str1 if x not in val and x.isalpha()]\n",
    "print(lst)"
   ]
  },
  {
   "cell_type": "markdown",
   "metadata": {},
   "source": [
    "6. Write a Python program to remove duplicates from a list."
   ]
  },
  {
   "cell_type": "code",
   "execution_count": 7,
   "metadata": {},
   "outputs": [
    {
     "name": "stdout",
     "output_type": "stream",
     "text": [
      "After remove a duplicates [1, 2, 3, 4, 5, 6]\n"
     ]
    }
   ],
   "source": [
    "lst1 = [1, 2, 3, 4, 1, 2, 5, 6, 4]\n",
    "lst = []\n",
    "for i in lst1:\n",
    "    if i not in lst:\n",
    "        lst.append(i)\n",
    "print('After remove a duplicates',lst)"
   ]
  },
  {
   "cell_type": "markdown",
   "metadata": {},
   "source": [
    "7. Write a Python program to generate all sub lists of a list."
   ]
  },
  {
   "cell_type": "code",
   "execution_count": 9,
   "metadata": {},
   "outputs": [
    {
     "name": "stdout",
     "output_type": "stream",
     "text": [
      "Sublist of a given list =  [[], [1, 2], [1, 2, 3], [1, 2, 3, 4], [2], [2, 3], [2, 3, 4], [3], [3, 4], [4]]\n"
     ]
    }
   ],
   "source": [
    "lst = [1, 2, 3, 4]\n",
    "sub_list = [lst[i:j] for i in range(len(lst)) for j in range(i+1, len(lst)+1)]\n",
    "sub_list[0] = []\n",
    "print('Sublist of a given list = ', sub_list)"
   ]
  },
  {
   "cell_type": "markdown",
   "metadata": {},
   "source": [
    "8. Write a Python program using reduce ( ) function to calculate the sum of first 10 natural numbers."
   ]
  },
  {
   "cell_type": "code",
   "execution_count": 10,
   "metadata": {},
   "outputs": [
    {
     "name": "stdout",
     "output_type": "stream",
     "text": [
      "The sum =  55\n"
     ]
    }
   ],
   "source": [
    "from functools import reduce\n",
    "lst = reduce(lambda x, y: x+y, range(1, 11))\n",
    "print('The sum = ', lst)"
   ]
  },
  {
   "cell_type": "markdown",
   "metadata": {},
   "source": [
    "9. Write a Python program that uses filter ( ) function to filter out only twin prime numbers from a list."
   ]
  },
  {
   "cell_type": "code",
   "execution_count": 49,
   "metadata": {},
   "outputs": [
    {
     "name": "stdout",
     "output_type": "stream",
     "text": [
      "<filter object at 0x7f209809b1f0>\n"
     ]
    }
   ],
   "source": [
    "def check_prime(x):\n",
    "    for i in range(2,x):\n",
    "        if x%i == 0:\n",
    "            return False\n",
    "    else:\n",
    "        return True\n",
    "        \n",
    "def generate_prime(a, b):\n",
    "    l = []\n",
    "    for i in range(a, b+1):\n",
    "        if check_prime(i):\n",
    "            l.append(i)\n",
    "    return l\n",
    "\n",
    "def twin_prime(l):\n",
    "    for i in range(2,len(l)):\n",
    "        if l[i] - l[i-1] == 2:\n",
    "            return True\n",
    "        \n",
    "        \n",
    "l = generate_prime(2,50)     \n",
    "r = filter(twin_prime(l),l)\n",
    "print(r)"
   ]
  },
  {
   "cell_type": "markdown",
   "metadata": {},
   "source": [
    "10. Write a Python program that uses map ( ) to print the sum of digits of each element in a given list."
   ]
  },
  {
   "cell_type": "code",
   "execution_count": 11,
   "metadata": {},
   "outputs": [
    {
     "name": "stdout",
     "output_type": "stream",
     "text": [
      "[2, 3, 4, 5, 6]\n"
     ]
    }
   ],
   "source": [
    "def sum_digit(x):\n",
    "    s = 0\n",
    "    while x > 0:\n",
    "        d = x % 10\n",
    "        x = x//10\n",
    "        s += d\n",
    "    return s\n",
    "lst = [11, 12, 13, 14, 15]\n",
    "l2 = list(map(lambda x: sum_digit(x), lst))\n",
    "print(l2)"
   ]
  },
  {
   "cell_type": "markdown",
   "metadata": {},
   "source": [
    "11. Write a Python function that uses a lambda function to find the sum of first 10 natural numbers."
   ]
  },
  {
   "cell_type": "code",
   "execution_count": 12,
   "metadata": {},
   "outputs": [
    {
     "name": "stdout",
     "output_type": "stream",
     "text": [
      "The sum =  55\n"
     ]
    }
   ],
   "source": [
    "from functools import reduce\n",
    "lst = reduce(lambda x, y: x+y, range(1, 11))\n",
    "print('The sum = ', lst)"
   ]
  },
  {
   "cell_type": "markdown",
   "metadata": {},
   "source": [
    "12. Write a custom def buble_sort(lst,reverse) which takes a list and sorts them in ascending or descending order depending on the parameter reverse."
   ]
  },
  {
   "cell_type": "code",
   "execution_count": 19,
   "metadata": {},
   "outputs": [
    {
     "name": "stdout",
     "output_type": "stream",
     "text": [
      " True(1) for descending order \n",
      " False(0) for asdending order\n",
      "Original list is [1, 4, 5, 2]\n",
      "The sorded list is [5, 4, 2, 1]\n"
     ]
    }
   ],
   "source": [
    "def bubble_sort(lst, reverse = 0):\n",
    "    for i in range(len(lst)):\n",
    "        for j in range(len(lst)-i-1):\n",
    "            if reverse == 1:\n",
    "                if lst[j] < lst[j+1]:\n",
    "                    lst[j], lst[j+1] = lst[j+1], lst[j]\n",
    "            else:\n",
    "                if lst[j] > lst[j+1]:\n",
    "                    lst[j], lst[j+1] = lst[j+1], lst[j]\n",
    "    return lst\n",
    "print(' True(1) for descending order \\n False(0) for asdending order')\n",
    "lst = [1, 4, 5, 2]\n",
    "print('Original list is',lst)\n",
    "print('The sorded list is', bubble_sort(lst,1))"
   ]
  },
  {
   "cell_type": "markdown",
   "metadata": {},
   "source": [
    "13. Write a function def matadd(a,b) which adds the two matrices a and b and returns the resultant matrix"
   ]
  },
  {
   "cell_type": "code",
   "execution_count": 3,
   "metadata": {},
   "outputs": [
    {
     "name": "stdin",
     "output_type": "stream",
     "text": [
      "Enter a number of rows[a] =  2\n",
      "Enter a number of column[a] =  2\n",
      "Enter a number of rows[b] =  2\n",
      "Enter a number of column[b] =  2\n",
      "[a] Enter a number row(1), col(1) =  1\n",
      "[a] Enter a number row(1), col(2) =  2\n",
      "[a] Enter a number row(2), col(1) =  3\n",
      "[a] Enter a number row(2), col(2) =  4\n",
      "[b] Enter a number row(1), col(1) =  1\n",
      "[b] Enter a number row(1), col(2) =  2\n",
      "[b] Enter a number row(2), col(1) =  3\n",
      "[b] Enter a number row(2), col(2) =  4\n"
     ]
    },
    {
     "name": "stdout",
     "output_type": "stream",
     "text": [
      "2 4 \n",
      "6 8 \n",
      "None\n"
     ]
    }
   ],
   "source": [
    "def display(c):\n",
    "    for i in range(len(c)):\n",
    "        for j in range(len(c[0])):\n",
    "            print(c[i][j], end=' ')\n",
    "        print()\n",
    "\n",
    "def mat_add(a, b):\n",
    "    if row1 == row2 and col1 == col2:\n",
    "        c = [[a[i][j] + b[i][j] for j in range(len(a[0]))] for i in range(len(a))]\n",
    "    return c\n",
    "\n",
    "row1 = int(input('Enter a number of rows[a] = '))\n",
    "col1 = int(input(\"Enter a number of column[a] = \"))\n",
    "row2 = int(input('Enter a number of rows[b] = '))\n",
    "col2 = int(input(\"Enter a number of column[b] = \"))\n",
    "\n",
    "a = [[int(input(f'[a] Enter a number row({x}), col({y}) = ')) for y in range(1, col1 + 1)] for x in range(1, row1 + 1)]\n",
    "b = [[int(input(f'[b] Enter a number row({x}), col({y}) = ')) for y in range(1, col2 + 1)] for x in range(1, row2 + 1)]\n",
    "\n",
    "print(display(mat_add(a, b)))"
   ]
  },
  {
   "cell_type": "markdown",
   "metadata": {},
   "source": [
    "14. Write a function def matmul(a,b) which multiplies the two matrices a and b and returns the resultant matrix. Perform dimensionality check before multiplication."
   ]
  },
  {
   "cell_type": "code",
   "execution_count": 10,
   "metadata": {},
   "outputs": [
    {
     "name": "stdin",
     "output_type": "stream",
     "text": [
      "Enter a number of rows[a] =  2\n",
      "Enter a number of column[a] =  2\n",
      "Enter a number of rows[b] =  2\n",
      "Enter a number of column[b] =  2\n",
      "[a] Enter a number row(1), col(1) =  1\n",
      "[a] Enter a number row(1), col(2) =  2\n",
      "[a] Enter a number row(2), col(1) =  3\n",
      "[a] Enter a number row(2), col(2) =  4\n",
      "[b] Enter a number row(1), col(1) =  1\n",
      "[b] Enter a number row(1), col(2) =  2\n",
      "[b] Enter a number row(2), col(1) =  3\n",
      "[b] Enter a number row(2), col(2) =  4\n"
     ]
    },
    {
     "name": "stdout",
     "output_type": "stream",
     "text": [
      "7 10 \n",
      "15 22 \n",
      "None\n"
     ]
    }
   ],
   "source": [
    "row1 = int(input('Enter a number of rows[a] = '))\n",
    "col1 = int(input(\"Enter a number of column[a] = \"))\n",
    "row2 = int(input('Enter a number of rows[b] = '))\n",
    "col2 = int(input(\"Enter a number of column[b] = \"))\n",
    "a = [[int(input(f'[a] Enter a number row({x}), col({y}) = ')) for y in range(1, col1 + 1)] for x in range(1, row1 + 1)]\n",
    "b = [[int(input(f'[b] Enter a number row({x}), col({y}) = ')) for y in range(1, col2 + 1)] for x in range(1, row2 + 1)]\n",
    "\n",
    "def mat_mul(a, b):\n",
    "    c = [[0 for j in range(len(b[0]))] for i in range(len(b))]\n",
    "    if row1 == col2 and row2 == col1:\n",
    "        for i in range(len(a)):\n",
    "            for j in range(len(a[0])):\n",
    "                for k in range(len(a)):\n",
    "                    c[i][j] += a[i][k] * b[k][j]\n",
    "        return c\n",
    "    else:\n",
    "        return 'check the Diagonal'\n",
    "print(display(mat_mul(a, b)))"
   ]
  },
  {
   "cell_type": "markdown",
   "metadata": {},
   "source": [
    "15. Write a function def transpose(a) which transposes the given matrix a and returns the transposed matrix."
   ]
  },
  {
   "cell_type": "code",
   "execution_count": 12,
   "metadata": {},
   "outputs": [
    {
     "name": "stdin",
     "output_type": "stream",
     "text": [
      "Enter a number of rows[a] =  2\n",
      "Enter a number of column[a] =  2\n",
      "Enter a number of rows[b] =  2\n",
      "Enter a number of column[b] =  2\n",
      "[a] Enter a number row(1), col(1) =  1\n",
      "[a] Enter a number row(1), col(2) =  2\n",
      "[a] Enter a number row(2), col(1) =  3\n",
      "[a] Enter a number row(2), col(2) =  4\n",
      "[b] Enter a number row(1), col(1) =  1\n",
      "[b] Enter a number row(1), col(2) =  2\n",
      "[b] Enter a number row(2), col(1) =  3\n",
      "[b] Enter a number row(2), col(2) =  4\n"
     ]
    },
    {
     "name": "stdout",
     "output_type": "stream",
     "text": [
      "1 3 \n",
      "2 4 \n",
      "None\n"
     ]
    }
   ],
   "source": [
    "row1 = int(input('Enter a number of rows[a] = '))\n",
    "col1 = int(input(\"Enter a number of column[a] = \"))\n",
    "row2 = int(input('Enter a number of rows[b] = '))\n",
    "col2 = int(input(\"Enter a number of column[b] = \"))\n",
    "a = [[int(input(f'[a] Enter a number row({x}), col({y}) = ')) for y in range(1, col1 + 1)] for x in range(1, row1 + 1)]\n",
    "b = [[int(input(f'[b] Enter a number row({x}), col({y}) = ')) for y in range(1, col2 + 1)] for x in range(1, row2 + 1)]\n",
    "\n",
    "def mat_trans(x):\n",
    "    z = [[x[j][i] for j in range(len(x))]for i in range(len(x[0]))]\n",
    "    return z\n",
    "\n",
    "print(display(mat_trans(a)))"
   ]
  },
  {
   "cell_type": "markdown",
   "metadata": {},
   "source": [
    "16. Write a python program which computes  $a^T * b + a * b^T$ where a and b are matrices and T is transpose."
   ]
  },
  {
   "cell_type": "code",
   "execution_count": 13,
   "metadata": {},
   "outputs": [
    {
     "name": "stdin",
     "output_type": "stream",
     "text": [
      "Enter a number of rows[a] =  2\n",
      "Enter a number of column[a] =  2\n",
      "Enter a number of rows[b] =  2\n",
      "Enter a number of column[b] =  2\n",
      "[a] Enter a number row(1), col(1) =  1\n",
      "[a] Enter a number row(1), col(2) =  2\n",
      "[a] Enter a number row(2), col(1) =  3\n",
      "[a] Enter a number row(2), col(2) =  4\n",
      "[b] Enter a number row(1), col(1) =  1\n",
      "[b] Enter a number row(1), col(2) =  2\n",
      "[b] Enter a number row(2), col(1) =  3\n",
      "[b] Enter a number row(2), col(2) =  4\n"
     ]
    },
    {
     "name": "stdout",
     "output_type": "stream",
     "text": [
      "15 25 \n",
      "25 45 \n",
      "None\n"
     ]
    }
   ],
   "source": [
    "row1 = int(input('Enter a number of rows[a] = '))\n",
    "col1 = int(input(\"Enter a number of column[a] = \"))\n",
    "row2 = int(input('Enter a number of rows[b] = '))\n",
    "col2 = int(input(\"Enter a number of column[b] = \"))\n",
    "a = [[int(input(f'[a] Enter a number row({x}), col({y}) = ')) for y in range(1, col1 + 1)] for x in range(1, row1 + 1)]\n",
    "b = [[int(input(f'[b] Enter a number row({x}), col({y}) = ')) for y in range(1, col2 + 1)] for x in range(1, row2 + 1)]\n",
    "\n",
    "print(display(mat_add(mat_mul(mat_trans(a), b), mat_mul(a, mat_trans(b)))))"
   ]
  },
  {
   "cell_type": "markdown",
   "metadata": {},
   "source": [
    "17. Write  a function def reverse(s) which reverses the string s and returns the reversed string. Demonstrate all the ways in which the tasks can be achieved.19. "
   ]
  },
  {
   "cell_type": "code",
   "execution_count": 23,
   "metadata": {},
   "outputs": [
    {
     "name": "stdin",
     "output_type": "stream",
     "text": [
      "Enter a string =  abcdefg\n"
     ]
    },
    {
     "name": "stdout",
     "output_type": "stream",
     "text": [
      "gfedcba\n",
      "gfedcba\n"
     ]
    }
   ],
   "source": [
    "def reverse1(s):\n",
    "     return s[::-1]\n",
    "\n",
    "def reverse2(s):\n",
    "    r = ''\n",
    "    for i in s:\n",
    "        r = i+r\n",
    "    return r\n",
    "\n",
    "s = input('Enter a string = ')\n",
    "print(reverse1(s))\n",
    "print(reverse2(s))"
   ]
  },
  {
   "cell_type": "markdown",
   "metadata": {},
   "source": [
    "18. Write a function paragraph_stats(paragraph) which performs on the below paragraph:\n",
    "\n",
    "Determines the following:\n",
    "a) vowels - number of vowels in the paragraph\n",
    "b) consonants - number of consonants in the paragraph\n",
    "c) words - number of words in the paragraph\n",
    "d) sentences - number of sentences in the paragraph\n",
    "e) digits - number of digits in the paragraph\n",
    "f) symbols - number of special symbols or characters in the paragraph\n",
    "g) frequency - frequency of each distinct word in the paragraph\n",
    "h) palindrome - number of palindrome words in the paragraph\n",
    "i) anagrams - number of anagrams in the paragraph (anagrams are different words formed with same alphabets)"
   ]
  },
  {
   "cell_type": "code",
   "execution_count": 14,
   "metadata": {},
   "outputs": [
    {
     "name": "stdout",
     "output_type": "stream",
     "text": [
      "Number of vowels in para 250\n",
      "Number of constant in the para 378\n",
      "Number of word 153\n",
      "Number of sentence 5\n",
      "Number of digit 2\n",
      "The frequency of  is = 2\n",
      "The frequency of  strife, = 4\n",
      "The frequency of  prejudice, = 3\n",
      "The frequency of  national = 2\n",
      "The frequency of  in = 2\n",
      "The frequency of  space = 2\n",
      "The frequency of  yet. = 3\n",
      "The frequency of  hazards = 3\n",
      "The frequency of  hostile = 6\n",
      "The frequency of  us = 10\n",
      "The frequency of  Its = 2\n",
      "The frequency of  deserves = 2\n",
      "The frequency of  best = 10\n",
      "The frequency of  all = 3\n",
      "The frequency of  and = 2\n",
      "The frequency of  opportunity = 2\n",
      "The frequency of  peaceful = 2\n",
      "The frequency of  many = 2\n",
      "The frequency of  come = 2\n",
      "The frequency of  But = 2\n",
      "The frequency of  some = 2\n",
      "The frequency of  the = 2\n",
      "The frequency of  Why = 2\n",
      "The frequency of  this = 4\n",
      "The frequency of  our = 2\n",
      "The frequency of  And = 2\n",
      "The frequency of  may = 4\n",
      "The frequency of  ask = 2\n",
      "The frequency of  climb = 2\n",
      "The frequency of  highest = 8\n",
      "The frequency of  Why, = 2\n",
      "The frequency of  years = 2\n",
      "The frequency of  fly = 2\n",
      "The frequency of  Atlantic? = 7\n",
      "The frequency of  does = 2\n",
      "The frequency of  play = 2\n",
      "The frequency of  We = 2\n",
      "The frequency of  to = 3\n",
      "The frequency of  to = 3\n",
      "The frequency of  moon. = 6\n",
      "The frequency of  choose = 2\n",
      "The frequency of  go = 7\n",
      "The frequency of  the = 6\n",
      "The frequency of  in = 2\n",
      "The frequency of  decade = 2\n",
      "The frequency of  do = 6\n",
      "The frequency of  other = 4\n",
      "The frequency of  not = 2\n",
      "The frequency of  they = 5\n",
      "The frequency of  easy, = 5\n",
      "The frequency of  because = 2\n",
      "The frequency of  are = 2\n",
      "The frequency of  because = 2\n",
      "The frequency of  goal = 4\n",
      "The frequency of  serve = 2\n",
      "The frequency of  organise = 5\n",
      "The frequency of  measure = 5\n",
      "The frequency of  best = 3\n",
      "The frequency of  our = 2\n",
      "The frequency of  and = 2\n",
      "The frequency of  because = 2\n",
      "The frequency of  challenge = 3\n",
      "The frequency of  one = 2\n",
      "The frequency of  we = 2\n",
      "The frequency of  willing = 3\n",
      "The frequency of  accept, = 4\n",
      "The frequency of  we = 3\n",
      "The frequency of  unwilling = 2\n",
      "The frequency of  postpone, = 3\n",
      "The frequency of  one = 3\n",
      "The frequency of  we = 2\n",
      "The frequency of  to = 2\n",
      "The frequency of  and = 2\n",
      "The frequency of  others, = 2\n",
      "The frequency of  -- = 2\n",
      "The frequency of  F = 2\n"
     ]
    },
    {
     "ename": "IndexError",
     "evalue": "list index out of range",
     "output_type": "error",
     "traceback": [
      "\u001b[0;31m---------------------------------------------------------------------------\u001b[0m",
      "\u001b[0;31mIndexError\u001b[0m                                Traceback (most recent call last)",
      "\u001b[0;32m<ipython-input-14-2d5a162275d9>\u001b[0m in \u001b[0;36m<module>\u001b[0;34m\u001b[0m\n\u001b[1;32m     44\u001b[0m         \u001b[0;32mdel\u001b[0m \u001b[0mx\u001b[0m\u001b[0;34m[\u001b[0m\u001b[0mi\u001b[0m\u001b[0;34m]\u001b[0m\u001b[0;34m\u001b[0m\u001b[0;34m\u001b[0m\u001b[0m\n\u001b[1;32m     45\u001b[0m         \u001b[0mprint\u001b[0m\u001b[0;34m(\u001b[0m\u001b[0;34m'The frequency of '\u001b[0m\u001b[0;34m,\u001b[0m \u001b[0mx\u001b[0m\u001b[0;34m[\u001b[0m\u001b[0mi\u001b[0m\u001b[0;34m]\u001b[0m\u001b[0;34m,\u001b[0m \u001b[0;34m'='\u001b[0m\u001b[0;34m,\u001b[0m \u001b[0mp\u001b[0m\u001b[0;34m)\u001b[0m\u001b[0;34m\u001b[0m\u001b[0;34m\u001b[0m\u001b[0m\n\u001b[0;32m---> 46\u001b[0;31m \u001b[0mfrequency\u001b[0m\u001b[0;34m(\u001b[0m\u001b[0ml\u001b[0m\u001b[0;34m[\u001b[0m\u001b[0;34m:\u001b[0m\u001b[0;34m]\u001b[0m\u001b[0;34m)\u001b[0m\u001b[0;34m\u001b[0m\u001b[0;34m\u001b[0m\u001b[0m\n\u001b[0m",
      "\u001b[0;32m<ipython-input-14-2d5a162275d9>\u001b[0m in \u001b[0;36mfrequency\u001b[0;34m(x)\u001b[0m\n\u001b[1;32m     43\u001b[0m                 \u001b[0mp\u001b[0m \u001b[0;34m+=\u001b[0m \u001b[0;36m1\u001b[0m\u001b[0;34m\u001b[0m\u001b[0;34m\u001b[0m\u001b[0m\n\u001b[1;32m     44\u001b[0m         \u001b[0;32mdel\u001b[0m \u001b[0mx\u001b[0m\u001b[0;34m[\u001b[0m\u001b[0mi\u001b[0m\u001b[0;34m]\u001b[0m\u001b[0;34m\u001b[0m\u001b[0;34m\u001b[0m\u001b[0m\n\u001b[0;32m---> 45\u001b[0;31m         \u001b[0mprint\u001b[0m\u001b[0;34m(\u001b[0m\u001b[0;34m'The frequency of '\u001b[0m\u001b[0;34m,\u001b[0m \u001b[0mx\u001b[0m\u001b[0;34m[\u001b[0m\u001b[0mi\u001b[0m\u001b[0;34m]\u001b[0m\u001b[0;34m,\u001b[0m \u001b[0;34m'='\u001b[0m\u001b[0;34m,\u001b[0m \u001b[0mp\u001b[0m\u001b[0;34m)\u001b[0m\u001b[0;34m\u001b[0m\u001b[0;34m\u001b[0m\u001b[0m\n\u001b[0m\u001b[1;32m     46\u001b[0m \u001b[0mfrequency\u001b[0m\u001b[0;34m(\u001b[0m\u001b[0ml\u001b[0m\u001b[0;34m[\u001b[0m\u001b[0;34m:\u001b[0m\u001b[0;34m]\u001b[0m\u001b[0;34m)\u001b[0m\u001b[0;34m\u001b[0m\u001b[0;34m\u001b[0m\u001b[0m\n",
      "\u001b[0;31mIndexError\u001b[0m: list index out of range"
     ]
    }
   ],
   "source": [
    "para = \"There is no strife, no prejudice, no national conflict in outer space as yet. Its hazards are hostile to us all. Its conquest deserves the best of all mankind, and its opportunity for peaceful cooperation many never come again. But why, some say, the moon? Why choose this as our goal? And they may well ask why climb the highest mountain? Why, 35 years ago, fly the Atlantic? Why does Rice play Texas? We choose to go to the moon. We choose to go to the moon in this decade and do the other things, not because they are easy, but because they are hard, because that goal will serve to organise and measure the best of our energies and skills, because that challenge is one that we are willing to accept, one we are unwilling to postpone, and one which we intend to win, and the others, too. -- John F Kennedy\"\n",
    "l = para.split()\n",
    "vow = ['a','e','i','o','u','A','E','I','O','U']\n",
    "def vowels(x = para):\n",
    "    nvow = 0\n",
    "    for i in para:\n",
    "        if i in vow and i.isalpha():\n",
    "            nvow += 1\n",
    "    return nvow\n",
    "print('Number of vowels in para', vowels())\n",
    "\n",
    "def cons(x = para):\n",
    "    ncon = 0\n",
    "    for i in para:\n",
    "        if i not in vow and i.isalpha():\n",
    "            ncon += 1\n",
    "    return ncon\n",
    "print('Number of constant in the para', cons())\n",
    "print('Number of word', len(l))\n",
    "\n",
    "def sens(x = para):\n",
    "    nsen = 0\n",
    "    for i in para:\n",
    "        if i == '.':\n",
    "            nsen += 1\n",
    "    return nsen\n",
    "print('Number of sentence',sens())\n",
    "\n",
    "def ndigit(x = para):\n",
    "    ndig = 0\n",
    "    for i in para:\n",
    "        if i.isdigit():\n",
    "            ndig += 1\n",
    "    return ndig\n",
    "\n",
    "print('Number of digit',ndigit())\n",
    "\n",
    "def frequency(x = l):\n",
    "    for i in range(len(x)):\n",
    "        p = 1\n",
    "        for j in range(i,len(x)):\n",
    "            if x[i] == x[j]:\n",
    "                p += 1\n",
    "        del x[i]\n",
    "        print('The frequency of ', x[i], '=', p)\n",
    "frequency(l[:])"
   ]
  },
  {
   "cell_type": "code",
   "execution_count": null,
   "metadata": {},
   "outputs": [],
   "source": []
  },
  {
   "cell_type": "code",
   "execution_count": null,
   "metadata": {},
   "outputs": [],
   "source": []
  },
  {
   "cell_type": "code",
   "execution_count": null,
   "metadata": {},
   "outputs": [],
   "source": []
  }
 ],
 "metadata": {
  "kernelspec": {
   "display_name": "Python 3",
   "language": "python",
   "name": "python3"
  },
  "language_info": {
   "codemirror_mode": {
    "name": "ipython",
    "version": 3
   },
   "file_extension": ".py",
   "mimetype": "text/x-python",
   "name": "python",
   "nbconvert_exporter": "python",
   "pygments_lexer": "ipython3",
   "version": "3.8.5"
  }
 },
 "nbformat": 4,
 "nbformat_minor": 4
}
